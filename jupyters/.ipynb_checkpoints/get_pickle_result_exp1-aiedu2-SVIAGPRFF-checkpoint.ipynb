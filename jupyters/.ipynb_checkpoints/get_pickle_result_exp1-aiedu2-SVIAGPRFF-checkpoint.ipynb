{
 "cells": [
  {
   "cell_type": "code",
   "execution_count": 1,
   "metadata": {},
   "outputs": [],
   "source": [
    "import pickle\n",
    "import matplotlib.pyplot as plt\n",
    "import numpy as np\n",
    "import os\n",
    "import pickle \n",
    "import pandas as pd\n",
    "from datetime import date\n",
    "from sklearn.cluster import KMeans\n",
    "\n",
    "from IPython.display import HTML\n",
    "from matplotlib import animation, rc\n",
    "from matplotlib import style\n",
    "#rc('animation', html='html5')\n",
    "\n",
    "from datetime import datetime\n",
    "\n",
    "import sys\n",
    "sys.path.append('./../')\n",
    "from utility.eval_metric import _measure_metric,accuracy"
   ]
  },
  {
   "cell_type": "code",
   "execution_count": 2,
   "metadata": {},
   "outputs": [
    {
     "data": {
      "image/png": "[encoded data removed]",
      "text/plain": [
       "<Figure size 792x72 with 1 Axes>"
      ]
     },
     "metadata": {},
     "output_type": "display_data"
    }
   ],
   "source": [
    "import seaborn as sns\n",
    "sns.set()\n",
    "sns.set_style('white')\n",
    "#sns.set_style('whitegrid')\n",
    "import matplotlib\n",
    "plt.rcParams[\"axes.grid\"] = True\n",
    "plt.rc('font', family='serif')\n",
    "#plt.rc('font', weight='bold')\n",
    "\n",
    "#current_palette = sns.color_palette(sns.hls_palette(5+1, l=.6, s=1.0))\n",
    "current_palette = sns.color_palette(sns.hls_palette(10+1, l=.5, s=1.0))\n",
    "sns.palplot(current_palette)\n",
    "current_palette = np.asarray(current_palette)"
   ]
  },
  {
   "cell_type": "code",
   "execution_count": 3,
   "metadata": {},
   "outputs": [],
   "source": [
    "#saved_pickle_path = './result_pickle_aiedu2/'\n",
    "saved_pickle_path = './result_pickle_scalable_exp1-2/' #for table\n",
    "#saved_pickle_path = './result_pickle_scalable_exp1-22/' #for figure\n",
    "format_name = '.pickle'"
   ]
  },
  {
   "cell_type": "code",
   "execution_count": 4,
   "metadata": {},
   "outputs": [],
   "source": [
    "def get_together(saved_pickle_path, saved_filename1, saved_filename2, format_name):\n",
    "    with open(saved_pickle_path + saved_filename1 + format_name, 'rb') as f:\n",
    "        result_pickle1 = pickle.load(f) # 단 한줄씩 읽어옴\n",
    "    with open(saved_pickle_path + saved_filename2 + format_name, 'rb') as f:\n",
    "        result_pickle2 = pickle.load(f) # 단 한줄씩 읽어옴       \n",
    "    result_pickle = {}\n",
    "    result_pickle['train_elbo'] = result_pickle1['train_elbo'] + result_pickle2['train_elbo']\n",
    "    result_pickle['train_accuracy'] = result_pickle1['train_accuracy'] + result_pickle2['train_accuracy']\n",
    "    result_pickle['test_elbo'] = result_pickle1['test_elbo'] + result_pickle2['test_elbo']\n",
    "    result_pickle['test_accuracy'] = result_pickle1['test_accuracy'] + result_pickle2['test_accuracy']\n",
    "    result_pickle['test_pred'] = result_pickle1['test_pred'] + result_pickle2['test_pred']\n",
    "    result_pickle['Trained_Model'] = result_pickle1['Trained_Model'] + result_pickle2['Trained_Model']\n",
    "    result_pickle['train_time'] = result_pickle1['train_time'] + result_pickle2['train_time']\n",
    "    result_pickle['num_cluster_list'] = result_pickle1['num_cluster_list'] + result_pickle2['num_cluster_list']\n",
    "    result_pickle['test_elbo_before'] = result_pickle1['test_elbo_before'] + result_pickle2['test_elbo_before']\n",
    "    result_pickle['test_accuracy_before'] = result_pickle1['test_accuracy_before'] + result_pickle2['test_accuracy_before']\n",
    "    result_pickle['Data_setting'] = result_pickle1['Data_setting']\n",
    "    result_pickle['Exp_setting'] = result_pickle1['Exp_setting']\n",
    "    result_pickle['HMMGP_setting'] = result_pickle1['HMMGP_setting']\n",
    "    result_pickle['Exp_setting']['num_rep_exp'] = result_pickle1['Exp_setting']['num_rep_exp']  + result_pickle2['Exp_setting']['num_rep_exp'] \n",
    "    #return result_pickle1, result_pickle2\n",
    "    return result_pickle"
   ]
  },
  {
   "cell_type": "code",
   "execution_count": 5,
   "metadata": {},
   "outputs": [],
   "source": [
    "import glob"
   ]
  },
  {
   "cell_type": "code",
   "execution_count": 6,
   "metadata": {},
   "outputs": [],
   "source": [
    "def get_result(saved_pickle_path, saved_filename1, format_name):\n",
    "    with open(saved_pickle_path + saved_filename1 + format_name, 'rb') as f:\n",
    "        result_pickle1 = pickle.load(f) # 단 한줄씩 읽어옴\n",
    "    return result_pickle1\n",
    "\n",
    "def load_pickle(pickle_filepath):\n",
    "    with open(pickle_filepath, 'rb') as f:\n",
    "        result_pickle1 = pickle.load(f) # 단 한줄씩 읽어옴\n",
    "    return result_pickle1\n",
    "    "
   ]
  },
  {
   "cell_type": "code",
   "execution_count": 7,
   "metadata": {},
   "outputs": [],
   "source": [
    "filenamelist = glob.glob(saved_pickle_path + '*' + format_name)"
   ]
  },
  {
   "cell_type": "code",
   "execution_count": 8,
   "metadata": {},
   "outputs": [],
   "source": [
    "target_filenamelist = []\n",
    "target_filenamelist2 = []\n",
    "for ith_filelist in filenamelist:\n",
    "    if ith_filelist.split('/')[-1].split('_')[-1][:9] == 'numhidden': \n",
    "        #print(ith_filelist.split('_')[6])\n",
    "        #if ith_filelist.split('_')[5] == 'emissiongpsm': #aidedu2\n",
    "        if ith_filelist.split('_')[6] == 'emissiongpsm':  #scalable1-2          \n",
    "            target_filenamelist.append(ith_filelist)\n",
    "        else:\n",
    "            target_filenamelist2.append(ith_filelist)\n",
    "            \n",
    "        #print(ith_filelist)"
   ]
  },
  {
   "cell_type": "code",
   "execution_count": 9,
   "metadata": {},
   "outputs": [
    {
     "data": {
      "text/plain": [
       "[]"
      ]
     },
     "execution_count": 9,
     "metadata": {},
     "output_type": "execute_result"
    }
   ],
   "source": [
    "target_filenamelist"
   ]
  },
  {
   "cell_type": "code",
   "execution_count": 10,
   "metadata": {},
   "outputs": [
    {
     "ename": "IndexError",
     "evalue": "list index out of range",
     "output_type": "error",
     "traceback": [
      "\u001b[0;31m---------------------------------------------------------------------------\u001b[0m",
      "\u001b[0;31mIndexError\u001b[0m                                Traceback (most recent call last)",
      "\u001b[0;32m<ipython-input-10-b8fbc45cf306>\u001b[0m in \u001b[0;36m<module>\u001b[0;34m()\u001b[0m\n\u001b[0;32m----> 1\u001b[0;31m \u001b[0mload_pickle\u001b[0m\u001b[0;34m(\u001b[0m\u001b[0mtarget_filenamelist2\u001b[0m\u001b[0;34m[\u001b[0m\u001b[0;36m0\u001b[0m\u001b[0;34m]\u001b[0m\u001b[0;34m)\u001b[0m\u001b[0;34m.\u001b[0m\u001b[0mkeys\u001b[0m\u001b[0;34m(\u001b[0m\u001b[0;34m)\u001b[0m\u001b[0;34m\u001b[0m\u001b[0;34m\u001b[0m\u001b[0m\n\u001b[0m",
      "\u001b[0;31mIndexError\u001b[0m: list index out of range"
     ]
    }
   ],
   "source": [
    "load_pickle(target_filenamelist2[0]).keys()"
   ]
  },
  {
   "cell_type": "code",
   "execution_count": null,
   "metadata": {},
   "outputs": [],
   "source": [
    "load_pickle(target_filenamelist2[0])['etr_lik_list']"
   ]
  },
  {
   "cell_type": "code",
   "execution_count": null,
   "metadata": {},
   "outputs": [],
   "source": [
    "def get_results(target_target_filenamelist):\n",
    "    results = {}\n",
    "    for ith_target_filename in target_target_filenamelist:\n",
    "        loaded_pickle = load_pickle(ith_target_filename)\n",
    "        #loaded_pickle.keys()\n",
    "        emission,train,totalspt = loaded_pickle['HMMGP_setting']['emission'],loaded_pickle['HMMGP_setting']['train'],loaded_pickle['HMMGP_setting']['Num_RRFFSpectralPt_total']\n",
    "        numQ,numhidden = loaded_pickle['Exp_setting']['Num_Q'],loaded_pickle['Exp_setting']['Num_HiddenState']\n",
    "        sublen,fulllen = loaded_pickle['HMMGP_setting']['Len_Batch'], loaded_pickle['HMMGP_setting']['Len_Full']\n",
    "        modeldescription = (numhidden,emission,train,numQ,fulllen,sublen,totalspt)\n",
    "        target_eval_list = [ 'tr_elbo_list', 'tr_lik_list', 'te_elbo_list', 'te_lik_list', 'train_accuracy_list', 'test_accuracy_list', 'train_time', 'num_cluster_list', 'bic_list',\n",
    "                             'etr_lik_list', 'ete_lik_list', 'etrain_accuracy_list', 'etest_accuracy_list']\n",
    "        try:\n",
    "            static = {}\n",
    "            for ith_key in target_eval_list:\n",
    "                mean,std = np.asarray(loaded_pickle[ith_key]).mean(axis=0).round(3),np.asarray(loaded_pickle[ith_key]).std(axis=0).round(3)\n",
    "                #static[ith_key] = (mean[0],std[0],mean[-1],std[-1])      \n",
    "                if ith_key in ['train_accuracy_list', 'test_accuracy_list']:\n",
    "                    static[ith_key] = (mean[0],(std[0]/np.sqrt(5)).round(3),mean[-1],(std[-1]/np.sqrt(5)).round(3))      \n",
    "                else:\n",
    "                    static[ith_key] = (mean[-1],(std[-1]/np.sqrt(5)).round(3))      \n",
    "                \n",
    "            results[modeldescription] = static\n",
    "        except:\n",
    "            pass\n",
    "    return results\n",
    "\n",
    "\n",
    "\n",
    "\n",
    "\n",
    "\n",
    "\n",
    "\n",
    "\n",
    "\n",
    "def get_drawresults(target_target_filenamelist):\n",
    "    results = {}\n",
    "    for ith_target_filename in target_target_filenamelist:\n",
    "        loaded_pickle = load_pickle(ith_target_filename)\n",
    "        #loaded_pickle.keys()\n",
    "        emission,train,totalspt = loaded_pickle['HMMGP_setting']['emission'],loaded_pickle['HMMGP_setting']['train'],loaded_pickle['HMMGP_setting']['Num_RRFFSpectralPt_total']\n",
    "        numQ,numhidden = loaded_pickle['Exp_setting']['Num_Q'],loaded_pickle['Exp_setting']['Num_HiddenState']\n",
    "        sublen,fulllen = loaded_pickle['HMMGP_setting']['Len_Batch'], loaded_pickle['HMMGP_setting']['Len_Full']\n",
    "        modeldescription = (numhidden,emission,train,numQ,fulllen,sublen,totalspt)\n",
    "\n",
    "        target_eval_list = [ 'tr_elbo_list', 'tr_lik_list', 'te_elbo_list', 'te_lik_list', 'train_accuracy_list', 'test_accuracy_list', 'train_time', 'num_cluster_list', 'bic_list',\n",
    "                             'etr_lik_list', 'ete_lik_list', 'etrain_accuracy_list', 'etest_accuracy_list']\n",
    "#         static = {}        \n",
    "#         for ith_key in target_eval_list:\n",
    "#             mean,std = np.asarray(loaded_pickle[ith_key]).mean(axis=0).round(3),np.asarray(loaded_pickle[ith_key]).std(axis=0).round(3)\n",
    "#             if ith_key in ['train_time']:\n",
    "#                 print(np.cumsum(mean))\n",
    "#                 static[ith_key] = (np.cumsum(mean))      \n",
    "#             else:\n",
    "#                 static[ith_key] = (mean,std)    \n",
    "\n",
    "#         results[modeldescription] = static\n",
    "        \n",
    "        try:\n",
    "            static = {}\n",
    "            for ith_key in target_eval_list:\n",
    "                mean,std = np.asarray(loaded_pickle[ith_key]).mean(axis=0).round(3),np.asarray(loaded_pickle[ith_key]).std(axis=0).round(3)\n",
    "                if ith_key in ['train_time']:\n",
    "                    static[ith_key] = (np.cumsum(mean))      \n",
    "                else:\n",
    "                    static[ith_key] = (mean,std)    \n",
    "                \n",
    "            results[modeldescription] = static\n",
    "        except:\n",
    "            pass\n",
    "        \n",
    "        \n",
    "    return results"
   ]
  },
  {
   "cell_type": "code",
   "execution_count": 11,
   "metadata": {},
   "outputs": [],
   "source": [
    "import copy \n",
    "from collections import OrderedDict\n",
    "\n",
    "#target_eval_list = [ 'tr_elbo_list', 'tr_lik_list', 'te_elbo_list', 'te_lik_list', 'train_accuracy_list', 'test_accuracy_list', 'train_time', 'num_cluster_list', 'bic_list']\n",
    "target_eval_list = [ 'te_elbo_list', 'te_lik_list', 'train_accuracy_list', 'test_accuracy_list', 'train_time', 'num_cluster_list', 'bic_list','etr_lik_list', 'ete_lik_list', 'etrain_accuracy_list', 'etest_accuracy_list']\n",
    "\n",
    "def filter_results(results_dict,numhidden=4,numQ=4,target_eval_list=['tr_elbo_list']):\n",
    "    print('#'*200)\n",
    "    print('#'*200)    \n",
    "    #tmp_dict = OrderedDict()\n",
    "    tmp_dict = {}\n",
    "    #ordered_result = OrderedDict()\n",
    "    for ith_key in results_dict:\n",
    "        if ith_key[0] == numhidden and ith_key[3]==numQ:\n",
    "#             print('(numhidden,emission,train,numQ,fulllen,sublen,totalspt)='+ str(ith_key))\n",
    "#             for iith_key in target_eval_list:            \n",
    "#                 print(iith_key,results_dict[ith_key][iith_key])     #'start,final'           \n",
    "#                 #print(iith_key,results_dict[ith_key][iith_key][-2:]) #'final'\n",
    "#             print('\\n')\n",
    "            if ith_key[1] == 'GPSM':\n",
    "                tmp_dict[int(ith_key[-2])] = ith_key\n",
    "            else:                \n",
    "                tmp_dict[int(ith_key[-1])] = ith_key\n",
    "    \n",
    "    #sorted_dict = sorted(tmp_dict.items())\n",
    "    #print(sorted_dict )\n",
    "    for ith in sorted(tmp_dict.items()):\n",
    "        #print(ith)\n",
    "        ith_key = ith[1]        \n",
    "        print('(numhidden,emission,train,numQ,fulllen,sublen,totalspt)='+ str(ith_key))        \n",
    "        for iith_key in target_eval_list:            \n",
    "            #print(iith_key,results_dict[ith_key][iith_key])     #'start,final'           \n",
    "            print(iith_key,results_dict[ith_key][iith_key][-2:]) #'final'\n",
    "        print('')\n",
    "    return \n",
    "  \n",
    "    \n",
    "    \n",
    "def filter_results_draw(result_dict,numhidden=4,numQ=4,target_eval_list=['tr_elbo_list']):\n",
    "    result_dict_cp = copy.deepcopy(result_dict)\n",
    "    for ith_key in result_dict_cp :\n",
    "        if ith_key[0] == numhidden and ith_key[3]==numQ:\n",
    "            pass\n",
    "        else:\n",
    "            result_dict_cp[ith_key] = None\n",
    "            \n",
    "    return result_dict_cp "
   ]
  },
  {
   "cell_type": "markdown",
   "metadata": {},
   "source": [
    "## exp2"
   ]
  },
  {
   "cell_type": "code",
   "execution_count": 12,
   "metadata": {
    "tags": []
   },
   "outputs": [
    {
     "ename": "NameError",
     "evalue": "name 'get_results' is not defined",
     "output_type": "error",
     "traceback": [
      "\u001b[0;31m---------------------------------------------------------------------------\u001b[0m",
      "\u001b[0;31mNameError\u001b[0m                                 Traceback (most recent call last)",
      "\u001b[0;32m<ipython-input-12-846f9202bf5b>\u001b[0m in \u001b[0;36m<module>\u001b[0;34m()\u001b[0m\n\u001b[1;32m      3\u001b[0m \u001b[0mtarget_eval_list\u001b[0m \u001b[0;34m=\u001b[0m \u001b[0;34m[\u001b[0m \u001b[0;34m'test_accuracy_list'\u001b[0m\u001b[0;34m,\u001b[0m \u001b[0;34m'te_lik_list'\u001b[0m\u001b[0;34m,\u001b[0m\u001b[0;34m'train_time'\u001b[0m\u001b[0;34m,\u001b[0m \u001b[0;34m'ete_lik_list'\u001b[0m\u001b[0;34m,\u001b[0m\u001b[0;34m'etest_accuracy_list'\u001b[0m\u001b[0;34m]\u001b[0m\u001b[0;34m\u001b[0m\u001b[0;34m\u001b[0m\u001b[0m\n\u001b[1;32m      4\u001b[0m \u001b[0;34m\u001b[0m\u001b[0m\n\u001b[0;32m----> 5\u001b[0;31m \u001b[0mresults\u001b[0m \u001b[0;34m=\u001b[0m \u001b[0mget_results\u001b[0m\u001b[0;34m(\u001b[0m\u001b[0mtarget_filenamelist2\u001b[0m\u001b[0;34m)\u001b[0m\u001b[0;34m\u001b[0m\u001b[0;34m\u001b[0m\u001b[0m\n\u001b[0m\u001b[1;32m      6\u001b[0m \u001b[0;31m# filter_results(results,numhidden=4,numQ=4,target_eval_list=target_eval_list)\u001b[0m\u001b[0;34m\u001b[0m\u001b[0;34m\u001b[0m\u001b[0;34m\u001b[0m\u001b[0m\n\u001b[1;32m      7\u001b[0m \u001b[0;31m# filter_results(results,numhidden=6,numQ=4,target_eval_list=target_eval_list)\u001b[0m\u001b[0;34m\u001b[0m\u001b[0;34m\u001b[0m\u001b[0;34m\u001b[0m\u001b[0m\n",
      "\u001b[0;31mNameError\u001b[0m: name 'get_results' is not defined"
     ]
    }
   ],
   "source": [
    "#target_eval_list = [ 'te_lik_list', 'test_accuracy_list', 'train_time', 'num_cluster_list', 'bic_list']\n",
    "#target_eval_list = [ 'test_accuracy_list', 'te_lik_list',  'bic_list','train_time','etr_lik_list', 'ete_lik_list', 'etrain_accuracy_list', 'etest_accuracy_list']\n",
    "target_eval_list = [ 'test_accuracy_list', 'te_lik_list','train_time', 'ete_lik_list','etest_accuracy_list']\n",
    "\n",
    "results = get_results(target_filenamelist2)\n",
    "# filter_results(results,numhidden=4,numQ=4,target_eval_list=target_eval_list)\n",
    "# filter_results(results,numhidden=6,numQ=4,target_eval_list=target_eval_list)\n",
    "# filter_results(results,numhidden=8,numQ=4,target_eval_list=target_eval_list)\n",
    "# filter_results(results,numhidden=10,numQ=4,target_eval_list=target_eval_list)\n",
    "\n",
    "\n",
    "filter_results(results,numhidden=8,numQ=3,target_eval_list=target_eval_list)\n",
    "filter_results(results,numhidden=8,numQ=3,target_eval_list=target_eval_list)\n"
   ]
  },
  {
   "cell_type": "code",
   "execution_count": null,
   "metadata": {},
   "outputs": [],
   "source": [
    "# filter_results(results,numhidden=4,numQ=5,target_eval_list=target_eval_list)\n",
    "# filter_results(results,numhidden=6,numQ=5,target_eval_list=target_eval_list)\n",
    "# filter_results(results,numhidden=8,numQ=5,target_eval_list=target_eval_list)\n",
    "# filter_results(results,numhidden=10,numQ=5,target_eval_list=target_eval_list)"
   ]
  },
  {
   "cell_type": "markdown",
   "metadata": {},
   "source": [
    "## drawfigures"
   ]
  },
  {
   "cell_type": "code",
   "execution_count": 13,
   "metadata": {},
   "outputs": [
    {
     "ename": "NameError",
     "evalue": "name 'get_drawresults' is not defined",
     "output_type": "error",
     "traceback": [
      "\u001b[0;31m---------------------------------------------------------------------------\u001b[0m",
      "\u001b[0;31mNameError\u001b[0m                                 Traceback (most recent call last)",
      "\u001b[0;32m<ipython-input-13-39da3ad30522>\u001b[0m in \u001b[0;36m<module>\u001b[0;34m()\u001b[0m\n\u001b[1;32m      1\u001b[0m \u001b[0mtarget_eval_list\u001b[0m \u001b[0;34m=\u001b[0m \u001b[0;34m[\u001b[0m \u001b[0;34m'te_elbo_list'\u001b[0m\u001b[0;34m,\u001b[0m \u001b[0;34m'te_lik_list'\u001b[0m\u001b[0;34m,\u001b[0m \u001b[0;34m'train_accuracy_list'\u001b[0m\u001b[0;34m,\u001b[0m \u001b[0;34m'test_accuracy_list'\u001b[0m\u001b[0;34m,\u001b[0m \u001b[0;34m'train_time'\u001b[0m\u001b[0;34m,\u001b[0m \u001b[0;34m'num_cluster_list'\u001b[0m\u001b[0;34m,\u001b[0m \u001b[0;34m'bic_list'\u001b[0m\u001b[0;34m]\u001b[0m\u001b[0;34m\u001b[0m\u001b[0;34m\u001b[0m\u001b[0m\n\u001b[0;32m----> 2\u001b[0;31m \u001b[0mresults_draw\u001b[0m \u001b[0;34m=\u001b[0m \u001b[0mget_drawresults\u001b[0m\u001b[0;34m(\u001b[0m\u001b[0mtarget_filenamelist2\u001b[0m\u001b[0;34m)\u001b[0m\u001b[0;34m\u001b[0m\u001b[0;34m\u001b[0m\u001b[0m\n\u001b[0m\u001b[1;32m      3\u001b[0m \u001b[0mtarget_result\u001b[0m \u001b[0;34m=\u001b[0m \u001b[0mfilter_results_draw\u001b[0m\u001b[0;34m(\u001b[0m\u001b[0mresults_draw\u001b[0m\u001b[0;34m,\u001b[0m\u001b[0mnumhidden\u001b[0m\u001b[0;34m=\u001b[0m\u001b[0;36m8\u001b[0m\u001b[0;34m,\u001b[0m\u001b[0mnumQ\u001b[0m\u001b[0;34m=\u001b[0m\u001b[0;36m3\u001b[0m\u001b[0;34m,\u001b[0m\u001b[0mtarget_eval_list\u001b[0m\u001b[0;34m=\u001b[0m\u001b[0mtarget_eval_list\u001b[0m\u001b[0;34m)\u001b[0m\u001b[0;34m\u001b[0m\u001b[0;34m\u001b[0m\u001b[0m\n",
      "\u001b[0;31mNameError\u001b[0m: name 'get_drawresults' is not defined"
     ]
    }
   ],
   "source": [
    "target_eval_list = [ 'te_elbo_list', 'te_lik_list', 'train_accuracy_list', 'test_accuracy_list', 'train_time', 'num_cluster_list', 'bic_list']\n",
    "results_draw = get_drawresults(target_filenamelist2)\n",
    "target_result = filter_results_draw(results_draw,numhidden=8,numQ=3,target_eval_list=target_eval_list)\n"
   ]
  },
  {
   "cell_type": "code",
   "execution_count": 14,
   "metadata": {},
   "outputs": [
    {
     "ename": "NameError",
     "evalue": "name 'target_result' is not defined",
     "output_type": "error",
     "traceback": [
      "\u001b[0;31m---------------------------------------------------------------------------\u001b[0m",
      "\u001b[0;31mNameError\u001b[0m                                 Traceback (most recent call last)",
      "\u001b[0;32m<ipython-input-14-b89fd724e328>\u001b[0m in \u001b[0;36m<module>\u001b[0;34m()\u001b[0m\n\u001b[1;32m      8\u001b[0m \u001b[0mfig\u001b[0m \u001b[0;34m=\u001b[0m \u001b[0mplt\u001b[0m\u001b[0;34m.\u001b[0m\u001b[0mfigure\u001b[0m\u001b[0;34m(\u001b[0m\u001b[0mfigsize\u001b[0m \u001b[0;34m=\u001b[0m \u001b[0mfigsiz\u001b[0m\u001b[0;34m)\u001b[0m\u001b[0;34m\u001b[0m\u001b[0;34m\u001b[0m\u001b[0m\n\u001b[1;32m      9\u001b[0m \u001b[0;31m#for ith,train_time_mean, y_train_mean,y_train_std,ith_label in zip(color_list,train_time_mean_list ,y_train_accuracy_mean_list,y_train_accuracy_std_list,label_list):\u001b[0m\u001b[0;34m\u001b[0m\u001b[0;34m\u001b[0m\u001b[0;34m\u001b[0m\u001b[0m\n\u001b[0;32m---> 10\u001b[0;31m \u001b[0;32mfor\u001b[0m \u001b[0mith_key\u001b[0m \u001b[0;32min\u001b[0m \u001b[0mtarget_result\u001b[0m\u001b[0;34m:\u001b[0m\u001b[0;34m\u001b[0m\u001b[0;34m\u001b[0m\u001b[0m\n\u001b[0m\u001b[1;32m     11\u001b[0m     \u001b[0;32mif\u001b[0m \u001b[0mtarget_result\u001b[0m\u001b[0;34m[\u001b[0m\u001b[0mith_key\u001b[0m\u001b[0;34m]\u001b[0m \u001b[0;32mis\u001b[0m \u001b[0;32mnot\u001b[0m \u001b[0;32mNone\u001b[0m\u001b[0;34m:\u001b[0m\u001b[0;34m\u001b[0m\u001b[0;34m\u001b[0m\u001b[0m\n\u001b[1;32m     12\u001b[0m         \u001b[0mmean\u001b[0m\u001b[0;34m,\u001b[0m\u001b[0mstderr\u001b[0m \u001b[0;34m=\u001b[0m \u001b[0mtarget_result\u001b[0m\u001b[0;34m[\u001b[0m\u001b[0mith_key\u001b[0m\u001b[0;34m]\u001b[0m\u001b[0;34m[\u001b[0m\u001b[0mdraw_static\u001b[0m\u001b[0;34m]\u001b[0m\u001b[0;34m\u001b[0m\u001b[0;34m\u001b[0m\u001b[0m\n",
      "\u001b[0;31mNameError\u001b[0m: name 'target_result' is not defined"
     ]
    },
    {
     "data": {
      "text/plain": [
       "<Figure size 720x288 with 0 Axes>"
      ]
     },
     "metadata": {},
     "output_type": "display_data"
    }
   ],
   "source": [
    "#target_result = filter_results_draw(results_draw ,numhidden=10,numQ=5,target_eval_list=target_eval_list)\n",
    "#draw_static = 'te_elbo_list'\n",
    "draw_static = 'te_lik_list'\n",
    "#draw_static = 'test_accuracy_list'\n",
    "\n",
    "\n",
    "figsiz=(10,4)\n",
    "fig = plt.figure(figsize = figsiz)\n",
    "#for ith,train_time_mean, y_train_mean,y_train_std,ith_label in zip(color_list,train_time_mean_list ,y_train_accuracy_mean_list,y_train_accuracy_std_list,label_list):\n",
    "for ith_key in target_result:\n",
    "    if target_result[ith_key] is not None:\n",
    "        mean,stderr = target_result[ith_key][draw_static]\n",
    "        iteration = target_result[ith_key]['train_time']\n",
    "        #iteration = np.arange(1,len(mean)+1)\n",
    "\n",
    "        plt.plot(iteration ,mean , linewidth = 3.0 ,label = str(ith_key))\n",
    "        plt.fill_between(iteration, mean-stderr, mean+stderr, alpha=0.5 ) \n",
    "\n",
    "\n",
    "\n",
    "plt.minorticks_off()\n",
    "plt.xlabel('time (sec)',fontsize = 18)\n",
    "plt.ylabel(draw_static,fontsize =  18)\n",
    "plt.xticks(fontsize =  18)\n",
    "plt.yticks(fontsize = 18)\n",
    "#plt.legend(loc='lower right',fontsize = 15)\n",
    "#plt.legend(loc='upper left',fontsize = 12)\n",
    "plt.legend(loc='best',fontsize = 12)\n",
    "\n",
    "fig.tight_layout()    \n",
    "#plt.savefig(save_figure_path + 'train_accuracy_log'  + '.pdf' , format='pdf', dpi=1000, bbox_inches='tight')\n",
    "plt.show()\n",
    "\n",
    "\n",
    "\n",
    "\n",
    "draw_static = 'test_accuracy_list'\n",
    "figsiz=(10,4)\n",
    "fig = plt.figure(figsize = figsiz)\n",
    "#for ith,train_time_mean, y_train_mean,y_train_std,ith_label in zip(color_list,train_time_mean_list ,y_train_accuracy_mean_list,y_train_accuracy_std_list,label_list):\n",
    "for ith_key in target_result:\n",
    "    if target_result[ith_key] is not None:\n",
    "        mean,stderr = target_result[ith_key][draw_static]\n",
    "        iteration = target_result[ith_key]['train_time']\n",
    "        #iteration = np.arange(1,len(mean)+1)\n",
    "\n",
    "        plt.plot(iteration ,mean , linewidth = 3.0 ,label = str(ith_key))\n",
    "        plt.fill_between(iteration, mean-stderr, mean+stderr, alpha=0.5 ) \n",
    "\n",
    "\n",
    "\n",
    "plt.minorticks_off()\n",
    "plt.xlabel('time (sec)',fontsize = 18)\n",
    "plt.ylabel(draw_static,fontsize =  18)\n",
    "plt.xticks(fontsize =  18)\n",
    "plt.yticks(fontsize = 18)\n",
    "#plt.legend(loc='lower right',fontsize = 15)\n",
    "#plt.legend(loc='upper left',fontsize = 12)\n",
    "plt.legend(loc='best',fontsize = 12)\n",
    "\n",
    "fig.tight_layout()    \n",
    "#plt.savefig(save_figure_path + 'train_accuracy_log'  + '.pdf' , format='pdf', dpi=1000, bbox_inches='tight')\n",
    "plt.show()\n",
    "\n",
    "\n"
   ]
  },
  {
   "cell_type": "code",
   "execution_count": null,
   "metadata": {},
   "outputs": [],
   "source": [
    "draw_static = 'ete_lik_list'\n",
    "figsiz=(10,4)\n",
    "fig = plt.figure(figsize = figsiz)\n",
    "#for ith,train_time_mean, y_train_mean,y_train_std,ith_label in zip(color_list,train_time_mean_list ,y_train_accuracy_mean_list,y_train_accuracy_std_list,label_list):\n",
    "for ith_key in target_result:\n",
    "    if target_result[ith_key] is not None:\n",
    "        mean,stderr = target_result[ith_key][draw_static]\n",
    "        iteration = target_result[ith_key]['train_time']\n",
    "        #iteration = np.arange(1,len(mean)+1)\n",
    "\n",
    "        plt.plot(iteration ,mean , linewidth = 3.0 ,label = str(ith_key))\n",
    "        plt.fill_between(iteration, mean-stderr, mean+stderr, alpha=0.5 ) \n",
    "\n",
    "\n",
    "\n",
    "plt.minorticks_off()\n",
    "plt.xlabel('time (sec)',fontsize = 18)\n",
    "plt.ylabel(draw_static,fontsize =  18)\n",
    "plt.xticks(fontsize =  18)\n",
    "plt.yticks(fontsize = 18)\n",
    "#plt.legend(loc='lower right',fontsize = 15)\n",
    "#plt.legend(loc='upper left',fontsize = 12)\n",
    "plt.legend(loc='best',fontsize = 12)\n",
    "\n",
    "fig.tight_layout()    \n",
    "#plt.savefig(save_figure_path + 'train_accuracy_log'  + '.pdf' , format='pdf', dpi=1000, bbox_inches='tight')\n",
    "plt.show()\n",
    "\n",
    "\n",
    "draw_static = 'etest_accuracy_list'\n",
    "figsiz=(10,4)\n",
    "fig = plt.figure(figsize = figsiz)\n",
    "#for ith,train_time_mean, y_train_mean,y_train_std,ith_label in zip(color_list,train_time_mean_list ,y_train_accuracy_mean_list,y_train_accuracy_std_list,label_list):\n",
    "for ith_key in target_result:\n",
    "    if target_result[ith_key] is not None:\n",
    "        mean,stderr = target_result[ith_key][draw_static]\n",
    "        iteration = target_result[ith_key]['train_time']\n",
    "        #iteration = np.arange(1,len(mean)+1)\n",
    "\n",
    "        plt.plot(iteration ,mean , linewidth = 3.0 ,label = str(ith_key))\n",
    "        plt.fill_between(iteration, mean-stderr, mean+stderr, alpha=0.5 ) \n",
    "\n",
    "\n",
    "\n",
    "plt.minorticks_off()\n",
    "plt.xlabel('time (sec)',fontsize = 18)\n",
    "plt.ylabel(draw_static,fontsize =  18)\n",
    "plt.xticks(fontsize =  18)\n",
    "plt.yticks(fontsize = 18)\n",
    "#plt.legend(loc='lower right',fontsize = 15)\n",
    "#plt.legend(loc='upper left',fontsize = 12)\n",
    "plt.legend(loc='best',fontsize = 12)\n",
    "\n",
    "fig.tight_layout()    \n",
    "#plt.savefig(save_figure_path + 'train_accuracy_log'  + '.pdf' , format='pdf', dpi=1000, bbox_inches='tight')\n",
    "plt.show()"
   ]
  },
  {
   "cell_type": "code",
   "execution_count": null,
   "metadata": {},
   "outputs": [],
   "source": []
  },
  {
   "cell_type": "code",
   "execution_count": null,
   "metadata": {},
   "outputs": [],
   "source": []
  },
  {
   "cell_type": "code",
   "execution_count": null,
   "metadata": {},
   "outputs": [],
   "source": []
  },
  {
   "cell_type": "code",
   "execution_count": null,
   "metadata": {},
   "outputs": [],
   "source": []
  },
  {
   "cell_type": "code",
   "execution_count": null,
   "metadata": {},
   "outputs": [],
   "source": []
  },
  {
   "cell_type": "code",
   "execution_count": null,
   "metadata": {},
   "outputs": [],
   "source": []
  },
  {
   "cell_type": "code",
   "execution_count": null,
   "metadata": {},
   "outputs": [],
   "source": []
  },
  {
   "cell_type": "code",
   "execution_count": null,
   "metadata": {},
   "outputs": [],
   "source": []
  },
  {
   "cell_type": "code",
   "execution_count": null,
   "metadata": {},
   "outputs": [],
   "source": []
  },
  {
   "cell_type": "code",
   "execution_count": null,
   "metadata": {},
   "outputs": [],
   "source": []
  },
  {
   "cell_type": "code",
   "execution_count": null,
   "metadata": {},
   "outputs": [],
   "source": []
  },
  {
   "cell_type": "code",
   "execution_count": null,
   "metadata": {},
   "outputs": [],
   "source": []
  },
  {
   "cell_type": "code",
   "execution_count": null,
   "metadata": {},
   "outputs": [],
   "source": []
  },
  {
   "cell_type": "code",
   "execution_count": null,
   "metadata": {},
   "outputs": [],
   "source": []
  },
  {
   "cell_type": "code",
   "execution_count": null,
   "metadata": {},
   "outputs": [],
   "source": []
  },
  {
   "cell_type": "code",
   "execution_count": null,
   "metadata": {
    "tags": []
   },
   "outputs": [],
   "source": []
  }
 ],
 "metadata": {
  "kernelspec": {
   "display_name": "Python 3",
   "language": "python",
   "name": "python3"
  },
  "language_info": {
   "codemirror_mode": {
    "name": "ipython",
    "version": 3
   },
   "file_extension": ".py",
   "mimetype": "text/x-python",
   "name": "python",
   "nbconvert_exporter": "python",
   "pygments_lexer": "ipython3",
   "version": "3.6.8"
  }
 },
 "nbformat": 4,
 "nbformat_minor": 4
}
