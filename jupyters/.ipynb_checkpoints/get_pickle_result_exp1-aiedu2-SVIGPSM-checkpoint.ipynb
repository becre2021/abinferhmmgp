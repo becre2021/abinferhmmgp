{
 "cells": [
  {
   "cell_type": "code",
   "execution_count": 1,
   "metadata": {},
   "outputs": [],
   "source": [
    "import pickle\n",
    "import matplotlib.pyplot as plt\n",
    "import numpy as np\n",
    "import os\n",
    "import pickle \n",
    "import pandas as pd\n",
    "from datetime import date\n",
    "from sklearn.cluster import KMeans\n",
    "\n",
    "from IPython.display import HTML\n",
    "from matplotlib import animation, rc\n",
    "from matplotlib import style\n",
    "#rc('animation', html='html5')\n",
    "\n",
    "from datetime import datetime\n",
    "\n",
    "import sys\n",
    "sys.path.append('./../')\n",
    "from utility.eval_metric import _measure_metric,accuracy"
   ]
  },
  {
   "cell_type": "code",
   "execution_count": 2,
   "metadata": {},
   "outputs": [
    {
     "data": {
      "image/png": "[encoded data removed]",
      "text/plain": [
       "<Figure size 792x72 with 1 Axes>"
      ]
     },
     "metadata": {},
     "output_type": "display_data"
    }
   ],
   "source": [
    "import seaborn as sns\n",
    "sns.set()\n",
    "sns.set_style('white')\n",
    "#sns.set_style('whitegrid')\n",
    "import matplotlib\n",
    "plt.rcParams[\"axes.grid\"] = True\n",
    "plt.rc('font', family='serif')\n",
    "#plt.rc('font', weight='bold')\n",
    "\n",
    "#current_palette = sns.color_palette(sns.hls_palette(5+1, l=.6, s=1.0))\n",
    "current_palette = sns.color_palette(sns.hls_palette(10+1, l=.5, s=1.0))\n",
    "sns.palplot(current_palette)\n",
    "current_palette = np.asarray(current_palette)"
   ]
  },
  {
   "cell_type": "code",
   "execution_count": 3,
   "metadata": {},
   "outputs": [],
   "source": [
    "saved_pickle_path = './result_pickle_aiedu2/'\n",
    "#saved_pickle_path = './result_pickle_scalable_exp1-2/'\n",
    "format_name = '.pickle'"
   ]
  },
  {
   "cell_type": "code",
   "execution_count": 18,
   "metadata": {},
   "outputs": [],
   "source": [
    "# def get_together(saved_pickle_path, saved_filename1, saved_filename2, format_name):\n",
    "#     with open(saved_pickle_path + saved_filename1 + format_name, 'rb') as f:\n",
    "#         result_pickle1 = pickle.load(f) # 단 한줄씩 읽어옴\n",
    "#     with open(saved_pickle_path + saved_filename2 + format_name, 'rb') as f:\n",
    "#         result_pickle2 = pickle.load(f) # 단 한줄씩 읽어옴       \n",
    "#     result_pickle = {}\n",
    "#     result_pickle['train_elbo'] = result_pickle1['train_elbo'] + result_pickle2['train_elbo']\n",
    "#     result_pickle['train_accuracy'] = result_pickle1['train_accuracy'] + result_pickle2['train_accuracy']\n",
    "#     result_pickle['test_elbo'] = result_pickle1['test_elbo'] + result_pickle2['test_elbo']\n",
    "#     result_pickle['test_accuracy'] = result_pickle1['test_accuracy'] + result_pickle2['test_accuracy']\n",
    "#     result_pickle['test_pred'] = result_pickle1['test_pred'] + result_pickle2['test_pred']\n",
    "#     result_pickle['Trained_Model'] = result_pickle1['Trained_Model'] + result_pickle2['Trained_Model']\n",
    "#     result_pickle['train_time'] = result_pickle1['train_time'] + result_pickle2['train_time']\n",
    "#     result_pickle['num_cluster_list'] = result_pickle1['num_cluster_list'] + result_pickle2['num_cluster_list']\n",
    "#     result_pickle['test_elbo_before'] = result_pickle1['test_elbo_before'] + result_pickle2['test_elbo_before']\n",
    "#     result_pickle['test_accuracy_before'] = result_pickle1['test_accuracy_before'] + result_pickle2['test_accuracy_before']\n",
    "#     result_pickle['Data_setting'] = result_pickle1['Data_setting']\n",
    "#     result_pickle['Exp_setting'] = result_pickle1['Exp_setting']\n",
    "#     result_pickle['HMMGP_setting'] = result_pickle1['HMMGP_setting']\n",
    "#     result_pickle['Exp_setting']['num_rep_exp'] = result_pickle1['Exp_setting']['num_rep_exp']  + result_pickle2['Exp_setting']['num_rep_exp'] \n",
    "#     #return result_pickle1, result_pickle2\n",
    "#     return result_pickle"
   ]
  },
  {
   "cell_type": "code",
   "execution_count": 19,
   "metadata": {},
   "outputs": [],
   "source": [
    "import glob"
   ]
  },
  {
   "cell_type": "code",
   "execution_count": 31,
   "metadata": {},
   "outputs": [],
   "source": [
    "# def get_result(saved_pickle_path, saved_filename1, format_name):\n",
    "#     with open(saved_pickle_path + saved_filename1 + format_name, 'rb') as f:\n",
    "#         result_pickle1 = pickle.load(f) # 단 한줄씩 읽어옴\n",
    "#     return result_pickle1\n",
    "\n",
    "# def load_pickle(pickle_filepath):\n",
    "#     with open(pickle_filepath, 'rb') as f:\n",
    "#         result_pickle1 = pickle.load(f) # 단 한줄씩 읽어옴\n",
    "#     return result_pickle1\n",
    "    "
   ]
  },
  {
   "cell_type": "code",
   "execution_count": 21,
   "metadata": {},
   "outputs": [],
   "source": [
    "#filenamelist\n",
    "#target_filenamelist"
   ]
  },
  {
   "cell_type": "code",
   "execution_count": 248,
   "metadata": {},
   "outputs": [],
   "source": [
    "def get_results(target_target_filenamelist):\n",
    "    results = {}\n",
    "    for ith_target_filename in target_target_filenamelist:\n",
    "        loaded_pickle = load_pickle(ith_target_filename)\n",
    "        #loaded_pickle.keys()\n",
    "        emission,train,totalspt = loaded_pickle['HMMGP_setting']['emission'],loaded_pickle['HMMGP_setting']['train'],loaded_pickle['HMMGP_setting']['Num_RRFFSpectralPt_total']\n",
    "        numQ,numhidden,numrepexp = loaded_pickle['Exp_setting']['Num_Q'],loaded_pickle['Exp_setting']['Num_HiddenState'],loaded_pickle['Exp_setting']['num_rep_exp']\n",
    "        sublen,fulllen = loaded_pickle['HMMGP_setting']['Len_Batch'], loaded_pickle['HMMGP_setting']['Len_Full']\n",
    "        modeldescription = (numhidden,emission,train,numQ,fulllen,sublen,totalspt)\n",
    "        \n",
    "        #print(loaded_pickle.keys())\n",
    "        \n",
    "        \n",
    "        target_eval_list = [ 'tr_elbo_list', 'tr_lik_list', 'te_elbo_list', 'te_lik_list', 'train_accuracy_list', 'test_accuracy_list', 'train_time', 'num_cluster_list', 'bic_list']\n",
    "        \n",
    "#         target_eval_list = [ 'tr_elbo_list', 'tr_lik_list', 'te_elbo_list', 'te_lik_list', 'train_accuracy_list', 'test_accuracy_list', 'train_time', 'num_cluster_list', 'bic_list',\n",
    "#                              'etr_lik_list', 'ete_lik_list', 'etrain_accuracy_list', 'etest_accuracy_list']\n",
    "        try:\n",
    "            static = {}\n",
    "            for ith_key in target_eval_list:\n",
    "                mean,std = np.asarray(loaded_pickle[ith_key]).mean(axis=0).round(3),np.asarray(loaded_pickle[ith_key]).std(axis=0).round(3)\n",
    "                #static[ith_key] = (mean[0],std[0],mean[-1],std[-1])      \n",
    "                if ith_key in ['train_accuracy_list', 'test_accuracy_list']:\n",
    "                    static[ith_key] = (mean[0],(std[0]/np.sqrt(numrepexp)).round(3),mean[-1],(std[-1]/np.sqrt(numrepexp)).round(3))      \n",
    "\n",
    "                else:\n",
    "    #                     if ith_key in ['tr_lik_list','etr_lik_list']:\n",
    "    #                         numdat=100*1000\n",
    "    #                         static[ith_key] = ((mean[-1]/numdat).round(3),(std[-1]/(numdat*np.sqrt(numrepexp))).round(3))                             \n",
    "    #                     elif ith_key in ['te_lik_list', 'ete_lik_list']:\n",
    "    #                         numdat=50*1000\n",
    "    #                         static[ith_key] = ((mean[-1]/numdat).round(3),(std[-1]/(numdat*np.sqrt(numrepexp))).round(3))     \n",
    "    #                     else:\n",
    "    #                         static[ith_key] = (mean[-1].round(3),(std[-1]/np.sqrt(numrepexp)).round(3))      \n",
    "\n",
    "                    if ith_key in ['tr_lik_list','etr_lik_list']:\n",
    "                        numdat=100*200\n",
    "                        static[ith_key] = ((mean[-1]/numdat).round(3),(std[-1]/(numdat*np.sqrt(numrepexp))).round(3))                             \n",
    "                        #static[ith_key] = ((mean[-1]/numdat).round(3),(std[-1]/numdat).round(3))                             \n",
    "\n",
    "                    elif ith_key in ['te_lik_list', 'ete_lik_list']:\n",
    "                        numdat=50*200\n",
    "                        static[ith_key] = ((mean[-1]/numdat).round(3),(std[-1]/(numdat*np.sqrt(numrepexp))).round(3))     \n",
    "                        #static[ith_key] = ((mean[-1]/numdat).round(3),(std[-1]/numdat).round(3))     \n",
    "\n",
    "                    else:\n",
    "                        static[ith_key] = (mean[-1].round(3),(std[-1]/np.sqrt(numrepexp)).round(3))      \n",
    "                        #static[ith_key] = (mean[-1].round(3),(std[-1]/1).round(3))      \n",
    "\n",
    "\n",
    "            results[modeldescription] = static\n",
    "        except:\n",
    "            pass\n",
    "    return results\n",
    "\n",
    "\n",
    "\n",
    "\n",
    "\n",
    "\n",
    "\n",
    "\n",
    "\n",
    "\n",
    "def get_drawresults(target_target_filenamelist):\n",
    "    results = {}\n",
    "    for ith_target_filename in target_target_filenamelist:\n",
    "        loaded_pickle = load_pickle(ith_target_filename)\n",
    "        #loaded_pickle.keys()\n",
    "        emission,train,totalspt = loaded_pickle['HMMGP_setting']['emission'],loaded_pickle['HMMGP_setting']['train'],loaded_pickle['HMMGP_setting']['Num_RRFFSpectralPt_total']\n",
    "        numQ,numhidden,numrepexp = loaded_pickle['Exp_setting']['Num_Q'],loaded_pickle['Exp_setting']['Num_HiddenState'],loaded_pickle['Exp_setting']['num_rep_exp']\n",
    "        sublen,fulllen = loaded_pickle['HMMGP_setting']['Len_Batch'], loaded_pickle['HMMGP_setting']['Len_Full']\n",
    "        modeldescription = (numhidden,emission,train,numQ,fulllen,sublen,totalspt)\n",
    "\n",
    "        target_eval_list = [ 'tr_elbo_list', 'tr_lik_list', 'te_elbo_list', 'te_lik_list', 'train_accuracy_list', 'test_accuracy_list', 'train_time', 'num_cluster_list', 'bic_list']\n",
    "#         static = {}        \n",
    "#         for ith_key in target_eval_list:\n",
    "#             mean,std = np.asarray(loaded_pickle[ith_key]).mean(axis=0).round(3),np.asarray(loaded_pickle[ith_key]).std(axis=0).round(3)\n",
    "#             if ith_key in ['train_time']:\n",
    "#                 print(np.cumsum(mean))\n",
    "#                 static[ith_key] = (np.cumsum(mean))      \n",
    "#             else:\n",
    "#                 static[ith_key] = (mean,std)    \n",
    "\n",
    "#         results[modeldescription] = static\n",
    "        \n",
    "        try:\n",
    "            static = {}\n",
    "            for ith_key in target_eval_list:\n",
    "                mean,std = np.asarray(loaded_pickle[ith_key]).mean(axis=0).round(3),np.asarray(loaded_pickle[ith_key]).std(axis=0).round(3)\n",
    "                if ith_key in ['train_time']:\n",
    "                    static[ith_key] = (np.cumsum(mean))      \n",
    "                else:\n",
    "                    #static[ith_key] = (mean,std)\n",
    "                    static[ith_key] = (mean,(std[-1]/np.sqrt(numrepexp)).round(3))\n",
    "                    \n",
    "                \n",
    "            results[modeldescription] = static\n",
    "        except:\n",
    "            pass\n",
    "        \n",
    "        \n",
    "        \n",
    "            \n",
    "    return results"
   ]
  },
  {
   "cell_type": "code",
   "execution_count": 249,
   "metadata": {},
   "outputs": [],
   "source": [
    "import copy \n",
    "from collections import OrderedDict\n",
    "\n",
    "target_eval_list = [ 'tr_elbo_list', 'tr_lik_list', 'te_elbo_list', 'te_lik_list', 'train_accuracy_list', 'test_accuracy_list', 'train_time', 'num_cluster_list', 'bic_list']\n",
    "#target_eval_list = [ 'te_elbo_list', 'te_lik_list', 'train_accuracy_list', 'test_accuracy_list', 'train_time', 'num_cluster_list', 'bic_list']\n",
    "\n",
    "def filter_results(results_dict,numhidden=4,numQ=4,target_eval_list=['tr_elbo_list']):\n",
    "    print('#'*200)\n",
    "    print('#'*200)    \n",
    "    #tmp_dict = OrderedDict()\n",
    "    tmp_dict = {}\n",
    "    #ordered_result = OrderedDict()\n",
    "    for ith_key in results_dict:\n",
    "        if ith_key[0] == numhidden and ith_key[3]==numQ:\n",
    "            if ith_key[1] == 'gpsm':\n",
    "                tmp_dict[int(ith_key[-2])] = ith_key\n",
    "            else:                \n",
    "                tmp_dict[int(ith_key[-1])] = ith_key\n",
    "\n",
    "    result_dict_cp  = OrderedDict()          \n",
    "    for ith in sorted(tmp_dict.items()):\n",
    "        #print(ith)\n",
    "        ith_key = ith[1]        \n",
    "        print('(numhidden,emission,train,numQ,fulllen,sublen,totalspt)='+ str(ith_key))        \n",
    "        for iith_key in target_eval_list:            \n",
    "            #print(iith_key,results_dict[ith_key][iith_key])     #'start,final'           \n",
    "            print(iith_key,results_dict[ith_key][iith_key][-2:]) #'final'\n",
    "        print('')\n",
    "        result_dict_cp[iith_key] = results_dict[ith_key]\n",
    "        \n",
    "    return result_dict_cp\n",
    "\n",
    "\n",
    "\n",
    "def filter_results_draw(results_dict,numhidden=4,numQ=4,target_eval_list=['tr_elbo_list']):\n",
    "#     result_dict_cp = copy.deepcopy(result_dict)\n",
    "#     for ith_key in result_dict_cp :\n",
    "#         if ith_key[0] == numhidden and ith_key[3]==numQ:\n",
    "#             pass\n",
    "#         else:\n",
    "#             result_dict_cp[ith_key] = None\n",
    "    tmp_dict = {}\n",
    "    for ith_key in results_dict:\n",
    "        if ith_key[0] == numhidden and ith_key[3]==numQ:\n",
    "            if ith_key[1] == 'gpsm':\n",
    "                tmp_dict[int(ith_key[-2])] = ith_key\n",
    "            else:                \n",
    "                tmp_dict[int(ith_key[-1])] = ith_key\n",
    "\n",
    "    result_dict_cp  = OrderedDict()          \n",
    "    for ith in sorted(tmp_dict.items()):\n",
    "        #print(ith)\n",
    "        result_dict_cp[ith[1]] = results_dict[ith[1]]\n",
    "\n",
    "    return result_dict_cp "
   ]
  },
  {
   "cell_type": "code",
   "execution_count": 250,
   "metadata": {},
   "outputs": [],
   "source": [
    "# target_eval_list = [ 'te_elbo_list', 'ete_lik_list', 'te_lik_list', 'train_accuracy_list', 'test_accuracy_list', 'etrain_accuracy_list', 'etest_accuracy_list', 'train_time', 'num_cluster_list', 'bic_list']\n",
    "# #results_draw = get_drawresults(target_filenamelist)\n",
    "# results1_draw = filter_results(results1_f,numhidden=8,numQ=3,target_eval_list=target_eval_list)\n",
    "# target_result = filter_results_draw(results_draw,numhidden=8,numQ=3,target_eval_list=target_eval_list)\n",
    "#filter_results(results,numhidden=8,numQ=3,target_eval_list=target_eval_list)\n",
    "\n",
    "#results_draw = get_drawresults(target_filenamelist)\n",
    "#target_result = filter_results_draw(results_draw,numhidden=8,numQ=4,target_eval_list=target_eval_list)\n",
    "#results1_ff = filter_results(results1_f,numhidden=8,numQ=3,target_eval_list=target_eval_list)\n"
   ]
  },
  {
   "cell_type": "code",
   "execution_count": 251,
   "metadata": {},
   "outputs": [],
   "source": [
    "#target_result"
   ]
  },
  {
   "cell_type": "markdown",
   "metadata": {},
   "source": [
    "## exp1"
   ]
  },
  {
   "cell_type": "code",
   "execution_count": 252,
   "metadata": {},
   "outputs": [],
   "source": [
    "# filenamelist = glob.glob(saved_pickle_path + '*' + format_name)\n",
    "# len(filenamelist)"
   ]
  },
  {
   "cell_type": "code",
   "execution_count": 253,
   "metadata": {},
   "outputs": [],
   "source": [
    "filenamelist = glob.glob(saved_pickle_path + '*' + format_name)\n",
    "\n",
    "target_filenamelist = []\n",
    "target_filenamelist2 = []\n",
    "for ith_filelist in filenamelist:\n",
    "    #print(ith_filelist.split('/')[-1].split('_'))\n",
    "    if ith_filelist.split('/')[-1].split('_')[-1][:9] == 'numhidden':                \n",
    "        if ith_filelist.split('_')[5] == 'emissiongpsm': #aidedu2\n",
    "        #if ith_filelist.split('_')[6] == 'emissiongpsm':  #scalable1-2          \n",
    "\n",
    "            target_filenamelist.append(ith_filelist)\n",
    "        else:\n",
    "            target_filenamelist2.append(ith_filelist)\n",
    "            \n",
    "        #print(ith_filelist)"
   ]
  },
  {
   "cell_type": "code",
   "execution_count": 254,
   "metadata": {},
   "outputs": [],
   "source": [
    "#target_filenamelist"
   ]
  },
  {
   "cell_type": "code",
   "execution_count": 255,
   "metadata": {},
   "outputs": [],
   "source": [
    "target_eval_list = [ 'te_lik_list', 'test_accuracy_list', 'train_time', 'num_cluster_list', 'bic_list']\n",
    "results = get_results(target_filenamelist)\n",
    "# filter_results(results,numhidden=4,numQ=4,target_eval_list=target_eval_list)\n",
    "#filter_results(results,numhidden=8,numQ=6,target_eval_list=target_eval_list)\n",
    "#filter_results(results,numhidden=8,numQ=4,target_eval_list=target_eval_list)\n",
    "\n",
    "\n",
    "#filter_results(results,numhidden=8,numQ=4,target_eval_list=target_eval_list)"
   ]
  },
  {
   "cell_type": "code",
   "execution_count": 256,
   "metadata": {},
   "outputs": [],
   "source": [
    "#results"
   ]
  },
  {
   "cell_type": "code",
   "execution_count": 257,
   "metadata": {},
   "outputs": [
    {
     "name": "stdout",
     "output_type": "stream",
     "text": [
      "########################################################################################################################################################################################################\n",
      "########################################################################################################################################################################################################\n",
      "(numhidden,emission,train,numQ,fulllen,sublen,totalspt)=(8, 'gpsm', 'SVI', 3, 100, 10, 200)\n",
      "te_lik_list (-3.011, 0.125)\n",
      "test_accuracy_list (0.524, 0.032)\n",
      "train_time (78.754, 0.935)\n",
      "num_cluster_list (6.2, 0.335)\n",
      "bic_list (61620.177, 2500.635)\n",
      "\n",
      "(numhidden,emission,train,numQ,fulllen,sublen,totalspt)=(8, 'gpsm', 'SVI', 3, 100, 20, 200)\n",
      "te_lik_list (-2.808, 0.048)\n",
      "test_accuracy_list (0.5, 0.021)\n",
      "train_time (159.039, 3.057)\n",
      "num_cluster_list (7.2, 0.179)\n",
      "bic_list (57559.862, 957.605)\n",
      "\n",
      "(numhidden,emission,train,numQ,fulllen,sublen,totalspt)=(8, 'gpsm', 'SVI', 3, 100, 50, 200)\n",
      "te_lik_list (-2.519, 0.043)\n",
      "test_accuracy_list (0.504, 0.013)\n",
      "train_time (392.26, 2.163)\n",
      "num_cluster_list (7.2, 0.179)\n",
      "bic_list (51778.154, 854.216)\n",
      "\n",
      "(numhidden,emission,train,numQ,fulllen,sublen,totalspt)=(8, 'gpsm', 'VBEM', 3, 100, 100, 200)\n",
      "te_lik_list (-2.345, 0.0)\n",
      "test_accuracy_list (0.46, 0.0)\n",
      "train_time (875.593, 0.0)\n",
      "num_cluster_list (8.0, 0.0)\n",
      "bic_list (48301.139, 0.0)\n",
      "\n",
      "########################################################################################################################################################################################################\n",
      "########################################################################################################################################################################################################\n",
      "(numhidden,emission,train,numQ,fulllen,sublen,totalspt)=(8, 'gpsm', 'SVI', 4, 100, 10, 200)\n",
      "te_lik_list (-3.046, 0.084)\n",
      "test_accuracy_list (0.588, 0.018)\n",
      "train_time (98.175, 0.759)\n",
      "num_cluster_list (7.0, 0.0)\n",
      "bic_list (62531.026, 1678.218)\n",
      "\n",
      "(numhidden,emission,train,numQ,fulllen,sublen,totalspt)=(8, 'gpsm', 'SVI', 4, 100, 20, 200)\n",
      "te_lik_list (-2.371, 0.096)\n",
      "test_accuracy_list (0.62, 0.021)\n",
      "train_time (197.785, 2.532)\n",
      "num_cluster_list (7.0, 0.0)\n",
      "bic_list (49049.086, 1926.953)\n",
      "\n",
      "(numhidden,emission,train,numQ,fulllen,sublen,totalspt)=(8, 'gpsm', 'SVI', 4, 100, 50, 200)\n",
      "te_lik_list (-1.833, 0.033)\n",
      "test_accuracy_list (0.644, 0.024)\n",
      "train_time (483.566, 2.287)\n",
      "num_cluster_list (7.0, 0.0)\n",
      "bic_list (38287.569, 661.034)\n",
      "\n",
      "(numhidden,emission,train,numQ,fulllen,sublen,totalspt)=(8, 'gpsm', 'VBEM', 4, 100, 100, 200)\n",
      "te_lik_list (-1.279, 0.0)\n",
      "test_accuracy_list (0.68, 0.0)\n",
      "train_time (988.797, 0.0)\n",
      "num_cluster_list (7.0, 0.0)\n",
      "bic_list (27199.913, 0.0)\n",
      "\n"
     ]
    },
    {
     "data": {
      "text/plain": [
       "OrderedDict([('bic_list',\n",
       "              {'tr_elbo_list': (-143886.443, 0.0),\n",
       "               'tr_lik_list': (-0.391, 0.0),\n",
       "               'te_elbo_list': (-83646.587, 0.0),\n",
       "               'te_lik_list': (-1.279, 0.0),\n",
       "               'train_accuracy_list': (0.58, 0.0, 0.68, 0.0),\n",
       "               'test_accuracy_list': (0.52, 0.0, 0.68, 0.0),\n",
       "               'train_time': (988.797, 0.0),\n",
       "               'num_cluster_list': (7.0, 0.0),\n",
       "               'bic_list': (27199.913, 0.0)})])"
      ]
     },
     "execution_count": 257,
     "metadata": {},
     "output_type": "execute_result"
    }
   ],
   "source": [
    "filter_results(results,numhidden=8,numQ=3,target_eval_list=target_eval_list)\n",
    "filter_results(results,numhidden=8,numQ=4,target_eval_list=target_eval_list)\n"
   ]
  },
  {
   "cell_type": "code",
   "execution_count": 258,
   "metadata": {},
   "outputs": [],
   "source": [
    "target_eval_list = [ 'te_elbo_list', 'te_lik_list', 'train_accuracy_list', 'test_accuracy_list', 'train_time', 'num_cluster_list', 'bic_list']\n"
   ]
  },
  {
   "cell_type": "code",
   "execution_count": 259,
   "metadata": {},
   "outputs": [],
   "source": [
    "save_figure_path = './result_fig/exp1-1_new/'\n",
    "try : \n",
    "    os.makedirs(save_figure_path) if ~os.path.exists(save_figure_path) else 1\n",
    "except:\n",
    "    pass"
   ]
  },
  {
   "cell_type": "code",
   "execution_count": 260,
   "metadata": {},
   "outputs": [
    {
     "data": {
      "image/png": "[encoded data removed]",
      "text/plain": [
       "<Figure size 720x72 with 1 Axes>"
      ]
     },
     "metadata": {},
     "output_type": "display_data"
    }
   ],
   "source": [
    "#current_palette = sns.color_palette(sns.hls_palette(7+1, l=.5, s=1.0))\n",
    "current_palette = sns.color_palette('tab10')\n",
    "sns.palplot(current_palette)\n",
    "current_palette = np.asarray(current_palette)"
   ]
  },
  {
   "cell_type": "code",
   "execution_count": 261,
   "metadata": {},
   "outputs": [],
   "source": [
    "#label_list = [  'SVI-SM L=10,Q=4','SVI-SM-RF L=10,Q=4,R=0.1','SVI-SM-RF L=10,Q=4,R=0.2']\n",
    "def _transform_dict2name(ith_key):\n",
    "    if ith_key[1] == 'gpsm' and ith_key[2] == 'SVI': \n",
    "        return 'SVI-SM L={},Q={}'.format(ith_key[-2],ith_key[3])\n",
    "    elif ith_key[1] == 'gpsm' and ith_key[2] != 'SVI': \n",
    "        return 'VI-SM T={},Q={}'.format(ith_key[-2],ith_key[3])\n",
    "    \n",
    "    elif ith_key[1] == 'gprrff_beta' and ith_key[2] == 'SVI':\n",
    "        return 'SVI-SM-RF L={},Q={},R={}'.format(ith_key[-2],ith_key[3],ith_key[-1]/1000)\n",
    "    else:\n",
    "        pass\n",
    "    #(8, 'gpsm', 'SVI', 3, 100, 10, 1000)"
   ]
  },
  {
   "cell_type": "code",
   "execution_count": 262,
   "metadata": {},
   "outputs": [],
   "source": [
    "#results"
   ]
  },
  {
   "cell_type": "code",
   "execution_count": 263,
   "metadata": {},
   "outputs": [],
   "source": [
    "# results = get_results(target_filenamelist)\n",
    "# filter_results(results,numhidden=8,numQ=3,target_eval_list=target_eval_list)\n",
    "# filter_results(results,numhidden=8,numQ=4,target_eval_list=target_eval_list)\n"
   ]
  },
  {
   "cell_type": "code",
   "execution_count": 295,
   "metadata": {},
   "outputs": [],
   "source": [
    "# target_eval_list = [ 'te_elbo_list', 'ete_lik_list', 'te_lik_list', 'train_accuracy_list', 'test_accuracy_list', 'etrain_accuracy_list', 'etest_accuracy_list', 'train_time', 'num_cluster_list', 'bic_list']\n",
    "# #results_draw = get_drawresults(target_filenamelist)\n",
    "# results1_draw = filter_results(results1_f,numhidden=8,numQ=3,target_eval_list=target_eval_list)\n",
    "# target_result = filter_results_draw(results_draw,numhidden=8,numQ=3,target_eval_list=target_eval_list)\n",
    "#filter_results(results,numhidden=8,numQ=3,target_eval_list=target_eval_list)\n",
    "\n",
    "results_draw = get_drawresults(target_filenamelist)\n",
    "target_result = filter_results_draw(results_draw,numhidden=6,numQ=3,target_eval_list=target_eval_list)\n"
   ]
  },
  {
   "cell_type": "code",
   "execution_count": 296,
   "metadata": {},
   "outputs": [],
   "source": [
    "#target_result"
   ]
  },
  {
   "cell_type": "code",
   "execution_count": 297,
   "metadata": {},
   "outputs": [],
   "source": [
    "#mean"
   ]
  },
  {
   "cell_type": "code",
   "execution_count": 298,
   "metadata": {},
   "outputs": [
    {
     "data": {
      "image/png": "[encoded data removed]",
      "text/plain": [
       "<Figure size 576x360 with 1 Axes>"
      ]
     },
     "metadata": {},
     "output_type": "display_data"
    }
   ],
   "source": [
    "from matplotlib.ticker import FuncFormatter\n",
    "# import matplotlib.ticker as ptick\n",
    "# ax.yaxis.set_major_formatter(ptick.ScalarFormatter(useMathText=True)) \n",
    "\n",
    "\n",
    "#target_result = filter_results_draw(results_draw ,numhidden=10,numQ=5,target_eval_list=target_eval_list)\n",
    "#draw_static = 'te_elbo_list'\n",
    "draw_static = 'te_lik_list'\n",
    "#draw_static = 'ete_lik_list'\n",
    "\n",
    "#draw_static = 'test_accuracy_list'\n",
    "\n",
    "\n",
    "#figsiz=(10,4)\n",
    "figsiz=(8,5)\n",
    "fig = plt.figure(figsize = figsiz)\n",
    "#for ith,train_time_mean, y_train_mean,y_train_std,ith_label in zip(color_list,train_time_mean_list ,y_train_accuracy_mean_list,y_train_accuracy_std_list,label_list):\n",
    "#for ith,ith_key in zip(color_list,target_result):\n",
    "ith=0\n",
    "for jth,ith_key in enumerate(target_result):\n",
    "    \n",
    "    if target_result[ith_key] is not None:\n",
    "        mean,stderr = target_result[ith_key][draw_static]\n",
    "        iteration = target_result[ith_key]['train_time']\n",
    "        #iteration = np.arange(1,len(mean)+1)\n",
    "\n",
    "        plt.plot(iteration ,mean , linewidth = 3.0 ,label =  _transform_dict2name(ith_key) ,color = current_palette[ith] )\n",
    "        plt.fill_between(iteration, mean-stderr, mean+stderr, alpha=0.5,\n",
    "                         edgecolor= current_palette[ith], facecolor= current_palette[ith]) \n",
    "\n",
    "        ith+=1\n",
    "\n",
    "plt.minorticks_off()\n",
    "\n",
    "#plt.xscale('log',basex=2) \n",
    "plt.xticks(fontsize =  18)\n",
    "plt.yticks(fontsize = 18)\n",
    "plt.xlabel('time (sec)',fontsize = 18)\n",
    "plt.ylabel(draw_static,fontsize =  18)\n",
    "\n",
    "\n",
    "\n",
    "\n",
    "# plt.locator_params(axis='y', nbins=8)\n",
    "# plt.locator_params(axis='x', nbins=6)\n",
    "plt.ticklabel_format(axis='x',style='sci',scilimits=(0,0))\n",
    "plt.ticklabel_format(axis='y',style='sci',scilimits=(0,0))\n",
    "#plt.gca().xaxis.offset_text().set_fontsize(16)\n",
    "\n",
    "plt.gca().yaxis.get_offset_text().set_size(17)\n",
    "plt.gca().xaxis.get_offset_text().set_size(17)\n",
    "\n",
    "\n",
    "plt.legend(loc='best',fontsize = 18)\n",
    "fig.tight_layout()    \n",
    "#plt.savefig(save_figure_path + 'train_accuracy_log'  + '.pdf' , format='pdf', dpi=1000, bbox_inches='tight')\n",
    "plt.show()\n",
    "\n",
    "\n",
    "\n",
    "\n"
   ]
  },
  {
   "cell_type": "code",
   "execution_count": 299,
   "metadata": {},
   "outputs": [],
   "source": [
    "ylim_=[0.48,0.7]"
   ]
  },
  {
   "cell_type": "code",
   "execution_count": 300,
   "metadata": {},
   "outputs": [
    {
     "data": {
      "image/png": "[encoded data removed]",
      "text/plain": [
       "<Figure size 576x360 with 1 Axes>"
      ]
     },
     "metadata": {},
     "output_type": "display_data"
    },
    {
     "data": {
      "text/plain": [
       "'./result_fig/exp1-1_new/test_accuracy_list.pdf'"
      ]
     },
     "execution_count": 300,
     "metadata": {},
     "output_type": "execute_result"
    }
   ],
   "source": [
    "#draw_static = 'train_accuracy_list'\n",
    "#draw_static = 'etrain_accuracy_list'\n",
    "draw_static = 'test_accuracy_list'\n",
    "#draw_static = 'etest_accuracy_list'\n",
    "\n",
    "#figsiz=(10,4)\n",
    "figsiz=(8,5)\n",
    "#figsiz=(9,6)\n",
    "\n",
    "fig = plt.figure(figsize = figsiz)\n",
    "#for ith,train_time_mean, y_train_mean,y_train_std,ith_label in zip(color_list,train_time_mean_list ,y_train_accuracy_mean_list,y_train_accuracy_std_list,label_list):\n",
    "ith=0\n",
    "for jth,ith_key in enumerate(target_result):\n",
    "    if target_result[ith_key] is not None:\n",
    "        mean,stderr = target_result[ith_key][draw_static]\n",
    "        iteration = target_result[ith_key]['train_time']\n",
    "        #iteration = np.arange(1,len(mean)+1)\n",
    "\n",
    "        plt.plot(iteration ,mean , linewidth = 3.0 ,label =  _transform_dict2name(ith_key) ,color = current_palette[ith],linestyle='-',marker='s' )\n",
    "        plt.fill_between(iteration, mean-stderr, mean+stderr, alpha=0.5,\n",
    "                         edgecolor= current_palette[ith], facecolor= current_palette[ith]) \n",
    "        ith+=1\n",
    "        \n",
    "plt.xticks([2**10,2**11,2**12,2**13,2**14,2**15],fontsize =  18)\n",
    "#plt.xticks(fontsize =  18)\n",
    "#plt.yticks([0.4,0.5,0.55,0.6,0.65,0.7],fontsize = 18)\n",
    "#plt.xticks([2**7,2**9,2**11,2**13,2**15],fontsize = 18)\n",
    "\n",
    "plt.minorticks_off()\n",
    "plt.xlabel('time (sec)',fontsize = 20)\n",
    "#plt.ylabel(draw_static,fontsize =  18)\n",
    "plt.ylabel('accuracy',fontsize =  20)\n",
    "#plt.ylim(ylim_)\n",
    "\n",
    "\n",
    "\n",
    "\n",
    "plt.xticks(fontsize =  18)\n",
    "plt.yticks(fontsize = 18)\n",
    "plt.ticklabel_format(axis='x',style='sci',scilimits=(0,0))\n",
    "plt.ticklabel_format(axis='y',style='sci',scilimits=(0,0))\n",
    "plt.gca().yaxis.get_offset_text().set_size(17)\n",
    "plt.gca().xaxis.get_offset_text().set_size(17)\n",
    "\n",
    "plt.xscale('log',basex=2) \n",
    "\n",
    "\n",
    "\n",
    "\n",
    "leg=plt.legend(loc='best',fontsize = 15)\n",
    "for line in leg.get_lines():\n",
    "    line.set_linewidth(3)    \n",
    "    \n",
    "    \n",
    "fig.tight_layout()    \n",
    "plt.savefig(save_figure_path + draw_static   + '.pdf' , format='pdf', dpi=1000, bbox_inches='tight')\n",
    "plt.show()\n",
    "\n",
    "\n",
    "save_figure_path + draw_static   + '.pdf' "
   ]
  },
  {
   "cell_type": "code",
   "execution_count": 301,
   "metadata": {
    "tags": []
   },
   "outputs": [
    {
     "data": {
      "text/plain": [
       "dict_keys([(6, 'gpsm', 'SVI', 3, 100, 50, 200), (4, 'gpsm', 'SVI', 3, 100, 50, 200), (8, 'gpsm', 'SVI', 4, 100, 10, 200), (8, 'gpsm', 'SVI', 3, 100, 50, 200), (6, 'gpsm', 'VBEM', 3, 100, 100, 200), (8, 'gpsm', 'SVI', 4, 100, 50, 200), (8, 'gpsm', 'SVI', 3, 100, 20, 200), (8, 'gpsm', 'VBEM', 4, 100, 100, 200), (4, 'gpsm', 'SVI', 3, 100, 10, 200), (6, 'gpsm', 'SVI', 3, 100, 20, 200), (8, 'gpsm', 'SVI', 3, 100, 10, 200), (8, 'gpsm', 'SVI', 4, 100, 20, 200), (6, 'gpsm', 'SVI', 4, 100, 50, 200), (4, 'gpsm', 'SVI', 4, 100, 50, 200), (6, 'gpsm', 'VBEM', 4, 100, 100, 200), (4, 'gpsm', 'VBEM', 4, 100, 100, 200), (4, 'gpsm', 'SVI', 3, 100, 20, 200), (6, 'gpsm', 'SVI', 4, 100, 10, 200), (6, 'gpsm', 'SVI', 3, 100, 10, 200), (6, 'gpsm', 'SVI', 4, 100, 20, 200), (4, 'gpsm', 'VBEM', 3, 100, 100, 200), (4, 'gpsm', 'SVI', 4, 100, 10, 200), (8, 'gpsm', 'VBEM', 3, 100, 100, 200), (4, 'gpsm', 'SVI', 4, 100, 20, 200)])"
      ]
     },
     "execution_count": 301,
     "metadata": {},
     "output_type": "execute_result"
    }
   ],
   "source": [
    "results.keys()"
   ]
  },
  {
   "cell_type": "code",
   "execution_count": 302,
   "metadata": {
    "tags": []
   },
   "outputs": [
    {
     "name": "stdout",
     "output_type": "stream",
     "text": [
      "########################################################################################################################################################################################################\n",
      "########################################################################################################################################################################################################\n",
      "(numhidden,emission,train,numQ,fulllen,sublen,totalspt)=(4, 'gpsm', 'SVI', 3, 100, 10, 200)\n",
      "te_elbo_list (-61936.07, 187.996)\n",
      "te_lik_list (-3.324, 0.024)\n",
      "train_accuracy_list (0.574, 0.004)\n",
      "test_accuracy_list (0.56, 0.0)\n",
      "train_time (20.766, 0.111)\n",
      "num_cluster_list (3.0, 0.0)\n",
      "bic_list (67022.992, 479.533)\n",
      "\n",
      "(numhidden,emission,train,numQ,fulllen,sublen,totalspt)=(4, 'gpsm', 'SVI', 3, 100, 20, 200)\n",
      "te_elbo_list (-59431.236, 213.363)\n",
      "te_lik_list (-3.007, 0.019)\n",
      "train_accuracy_list (0.588, 0.002)\n",
      "test_accuracy_list (0.548, 0.004)\n",
      "train_time (40.063, 0.28)\n",
      "num_cluster_list (3.0, 0.0)\n",
      "bic_list (60687.097, 380.471)\n",
      "\n",
      "(numhidden,emission,train,numQ,fulllen,sublen,totalspt)=(4, 'gpsm', 'SVI', 3, 100, 50, 200)\n",
      "te_elbo_list (-57141.26, 223.809)\n",
      "te_lik_list (-2.71, 0.005)\n",
      "train_accuracy_list (0.586, 0.002)\n",
      "test_accuracy_list (0.556, 0.004)\n",
      "train_time (103.829, 1.748)\n",
      "num_cluster_list (3.0, 0.0)\n",
      "bic_list (54742.663, 91.408)\n",
      "\n",
      "(numhidden,emission,train,numQ,fulllen,sublen,totalspt)=(4, 'gpsm', 'VBEM', 3, 100, 100, 200)\n",
      "te_elbo_list (-88887.198, 0.0)\n",
      "te_lik_list (-6.526, 0.0)\n",
      "train_accuracy_list (0.44, 0.0)\n",
      "test_accuracy_list (0.52, 0.0)\n",
      "train_time (47.814, 0.0)\n",
      "num_cluster_list (3.0, 0.0)\n",
      "bic_list (131074.563, 0.0)\n",
      "\n",
      "########################################################################################################################################################################################################\n",
      "########################################################################################################################################################################################################\n",
      "(numhidden,emission,train,numQ,fulllen,sublen,totalspt)=(6, 'gpsm', 'SVI', 3, 100, 10, 200)\n",
      "te_elbo_list (-83635.53, 1024.074)\n",
      "te_lik_list (-3.316, 0.092)\n",
      "train_accuracy_list (0.69, 0.012)\n",
      "test_accuracy_list (0.656, 0.013)\n",
      "train_time (44.708, 0.426)\n",
      "num_cluster_list (6.0, 0.0)\n",
      "bic_list (67256.092, 1843.443)\n",
      "\n",
      "(numhidden,emission,train,numQ,fulllen,sublen,totalspt)=(6, 'gpsm', 'SVI', 3, 100, 20, 200)\n",
      "te_elbo_list (-80848.63, 586.543)\n",
      "te_lik_list (-2.945, 0.066)\n",
      "train_accuracy_list (0.704, 0.002)\n",
      "test_accuracy_list (0.7, 0.006)\n",
      "train_time (88.889, 0.689)\n",
      "num_cluster_list (6.0, 0.0)\n",
      "bic_list (59836.302, 1311.402)\n",
      "\n",
      "(numhidden,emission,train,numQ,fulllen,sublen,totalspt)=(6, 'gpsm', 'SVI', 3, 100, 50, 200)\n",
      "te_elbo_list (-75918.582, 545.307)\n",
      "te_lik_list (-2.527, 0.046)\n",
      "train_accuracy_list (0.744, 0.004)\n",
      "test_accuracy_list (0.724, 0.004)\n",
      "train_time (224.707, 2.141)\n",
      "num_cluster_list (6.0, 0.0)\n",
      "bic_list (51487.749, 925.471)\n",
      "\n",
      "(numhidden,emission,train,numQ,fulllen,sublen,totalspt)=(6, 'gpsm', 'VBEM', 3, 100, 100, 200)\n",
      "te_elbo_list (-73960.754, 0.0)\n",
      "te_lik_list (-2.303, 0.0)\n",
      "train_accuracy_list (0.74, 0.0)\n",
      "test_accuracy_list (0.72, 0.0)\n",
      "train_time (492.242, 0.0)\n",
      "num_cluster_list (6.0, 0.0)\n",
      "bic_list (47008.822, 0.0)\n",
      "\n",
      "########################################################################################################################################################################################################\n",
      "########################################################################################################################################################################################################\n",
      "(numhidden,emission,train,numQ,fulllen,sublen,totalspt)=(8, 'gpsm', 'SVI', 3, 100, 10, 200)\n",
      "te_elbo_list (-92442.166, 1057.907)\n",
      "te_lik_list (-3.011, 0.125)\n",
      "train_accuracy_list (0.582, 0.02)\n",
      "test_accuracy_list (0.524, 0.032)\n",
      "train_time (78.754, 0.935)\n",
      "num_cluster_list (6.2, 0.335)\n",
      "bic_list (61620.177, 2500.635)\n",
      "\n",
      "(numhidden,emission,train,numQ,fulllen,sublen,totalspt)=(8, 'gpsm', 'SVI', 3, 100, 20, 200)\n",
      "te_elbo_list (-91848.819, 682.853)\n",
      "te_lik_list (-2.808, 0.048)\n",
      "train_accuracy_list (0.55, 0.026)\n",
      "test_accuracy_list (0.5, 0.021)\n",
      "train_time (159.039, 3.057)\n",
      "num_cluster_list (7.2, 0.179)\n",
      "bic_list (57559.862, 957.605)\n",
      "\n",
      "(numhidden,emission,train,numQ,fulllen,sublen,totalspt)=(8, 'gpsm', 'SVI', 3, 100, 50, 200)\n",
      "te_elbo_list (-88440.952, 344.397)\n",
      "te_lik_list (-2.519, 0.043)\n",
      "train_accuracy_list (0.544, 0.015)\n",
      "test_accuracy_list (0.504, 0.013)\n",
      "train_time (392.26, 2.163)\n",
      "num_cluster_list (7.2, 0.179)\n",
      "bic_list (51778.154, 854.216)\n",
      "\n",
      "(numhidden,emission,train,numQ,fulllen,sublen,totalspt)=(8, 'gpsm', 'VBEM', 3, 100, 100, 200)\n",
      "te_elbo_list (-87944.643, 0.0)\n",
      "te_lik_list (-2.345, 0.0)\n",
      "train_accuracy_list (0.52, 0.0)\n",
      "test_accuracy_list (0.46, 0.0)\n",
      "train_time (875.593, 0.0)\n",
      "num_cluster_list (8.0, 0.0)\n",
      "bic_list (48301.139, 0.0)\n",
      "\n",
      "########################################################################################################################################################################################################\n",
      "########################################################################################################################################################################################################\n"
     ]
    },
    {
     "data": {
      "text/plain": [
       "OrderedDict()"
      ]
     },
     "execution_count": 302,
     "metadata": {},
     "output_type": "execute_result"
    }
   ],
   "source": [
    "filter_results(results,numhidden=4,numQ=3,target_eval_list=target_eval_list)\n",
    "filter_results(results,numhidden=6,numQ=3,target_eval_list=target_eval_list)\n",
    "filter_results(results,numhidden=8,numQ=3,target_eval_list=target_eval_list)\n",
    "filter_results(results,numhidden=10,numQ=3,target_eval_list=target_eval_list)\n"
   ]
  },
  {
   "cell_type": "code",
   "execution_count": null,
   "metadata": {},
   "outputs": [],
   "source": []
  },
  {
   "cell_type": "code",
   "execution_count": null,
   "metadata": {},
   "outputs": [],
   "source": []
  }
 ],
 "metadata": {
  "kernelspec": {
   "display_name": "Python 3",
   "language": "python",
   "name": "python3"
  },
  "language_info": {
   "codemirror_mode": {
    "name": "ipython",
    "version": 3
   },
   "file_extension": ".py",
   "mimetype": "text/x-python",
   "name": "python",
   "nbconvert_exporter": "python",
   "pygments_lexer": "ipython3",
   "version": "3.6.8"
  }
 },
 "nbformat": 4,
 "nbformat_minor": 4
}
