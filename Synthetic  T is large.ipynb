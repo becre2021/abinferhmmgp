{
 "cells": [
  {
   "cell_type": "code",
   "execution_count": 1,
   "metadata": {},
   "outputs": [],
   "source": [
    "import torch\n",
    "import pickle\n",
    "import numpy as np\n",
    "import sys\n",
    "sys.path.append('./../')"
   ]
  },
  {
   "cell_type": "code",
   "execution_count": 2,
   "metadata": {},
   "outputs": [],
   "source": [
    "import matplotlib.pyplot as plt\n",
    "import numpy as np\n",
    "\n",
    "from IPython.display import HTML\n",
    "from matplotlib import style\n",
    "#rc('animation', html='html5')"
   ]
  },
  {
   "cell_type": "code",
   "execution_count": 3,
   "metadata": {},
   "outputs": [
    {
     "data": {
      "image/png": "[encoded data removed]",
      "text/plain": [
       "<Figure size 792x72 with 1 Axes>"
      ]
     },
     "metadata": {},
     "output_type": "display_data"
    }
   ],
   "source": [
    "import seaborn as sns\n",
    "sns.set()\n",
    "sns.set_style('white')\n",
    "#sns.set_style('whitegrid')\n",
    "import matplotlib\n",
    "plt.rcParams[\"axes.grid\"] = True\n",
    "plt.rc('font', family='serif')\n",
    "#plt.rc('font', weight='bold')\n",
    "\n",
    "current_palette = sns.color_palette(sns.hls_palette(10+1, l=.5, s=1.0))\n",
    "#current_palette = sns.color_palette(sns.hls_palette(21+1, l=.5, s=1.0))\n",
    "\n",
    "sns.palplot(current_palette)\n"
   ]
  },
  {
   "cell_type": "code",
   "execution_count": 17,
   "metadata": {},
   "outputs": [],
   "source": []
  },
  {
   "cell_type": "code",
   "execution_count": 23,
   "metadata": {},
   "outputs": [],
   "source": [
    "from utility.dataset import _process_Synthetic\n",
    "from models_utility.construct_models import _combine_models\n",
    "from utility.eval_metric import _measure_metric, accuracy, compute_bic\n",
    "#torch.set_default_tensor_type(torch.FloatTensor)\n",
    "\n",
    "\n",
    "file_path = './dataset/synthetic/'\n",
    "file_name = 'Q6_Fs200'\n",
    "data_file_path = file_path + file_name\n",
    "\n",
    "\n",
    "##############################################################################\n",
    "# load dataset\n",
    "##############################################################################\n",
    "random_seed = 1000\n",
    "num_exp = 1\n",
    "\n",
    "\n",
    "###############################################\n",
    "###############################################\n",
    "\n",
    "exp_setting = {}\n",
    "exp_setting['device'] = False\n",
    "\n",
    "exp_setting['num_rep_exp'] = num_exp\n",
    "exp_setting['data'] = file_name\n",
    "exp_setting['full_length'] = 100\n",
    "\n",
    "exp_setting['input_dim'] = 1\n",
    "exp_setting['Num_HiddenState'] = 8\n",
    "exp_setting['Num_Q'] = 4\n",
    "\n",
    "\n",
    "\n",
    "x_train, y_train, z_train, x_test,y_test,z_test, true_freq , true_weight , true_noise_level ,true_num_state = _process_Synthetic(data_file_path,exp_setting)\n",
    "\n",
    "exp_setting['input_length'] = x_train.shape[1]\n",
    "z_test -= 1\n",
    "z_train -= 1\n"
   ]
  },
  {
   "cell_type": "code",
   "execution_count": 24,
   "metadata": {},
   "outputs": [],
   "source": []
  },
  {
   "cell_type": "code",
   "execution_count": 26,
   "metadata": {},
   "outputs": [
    {
     "name": "stdout",
     "output_type": "stream",
     "text": [
      "input_length : 200\n",
      "Num_RRFFSpectralPt_total : 200\n",
      "train : SVI, emission : gpsm, num Q : 4, total spt: 200, rate : 1.00\n"
     ]
    }
   ],
   "source": [
    "###############################################################################################\n",
    "# Model Setting\n",
    "###############################################################################################\n",
    "\n",
    "HMMGP_setting = {}\n",
    "HMMGP_setting['emission'] = 'gpsm' #\n",
    "HMMGP_setting['train'] = 'SVI' #\n",
    "\n",
    "\n",
    "HMMGP_setting['Num_Q'] = exp_setting['Num_Q']\n",
    "HMMGP_setting['lr_A'] = 0.05\n",
    "HMMGP_setting['lr_pi'] = 0.05\n",
    "HMMGP_setting['lr_hyp'] = 0.005\n",
    "\n",
    "\n",
    "HMMGP_setting['Len_Full'] = exp_setting['full_length']\n",
    "if HMMGP_setting['train'] == 'VBEM':\n",
    "    HMMGP_setting['Len_Batch'] = HMMGP_setting['Len_Full']\n",
    "    HMMGP_setting['Num_Batch'] = 1\n",
    "else:\n",
    "    HMMGP_setting['Len_Batch'] = 10\n",
    "    HMMGP_setting['Num_Batch'] = 1\n",
    "\n",
    "\n",
    "HMMGP_setting['device'] = exp_setting['device']\n",
    "\n",
    "\n",
    "HMMGP_setting['Iter_train'] = 10\n",
    "HMMGP_setting['Iter_hyp'] = 10\n",
    "HMMGP_setting['Rate_RRFFSpectralPt'] = 1.0\n",
    "HMMGP_setting['Num_RRFFSpectralPt_total'] = int ( (exp_setting['input_length']*HMMGP_setting['Rate_RRFFSpectralPt']) )\n",
    "HMMGP_setting['Num_RRFFBatch'] = 1\n",
    "HMMGP_setting['Num_K_Emission'] = 1\n",
    "\n",
    "\n",
    "print('input_length : %d'%(exp_setting['input_length']))\n",
    "print('Num_RRFFSpectralPt_total : %d'%(int ( (exp_setting['input_length']*HMMGP_setting['Rate_RRFFSpectralPt']) )))\n",
    "print('train : %s, emission : %s, num Q : %d, total spt: %d, rate : %.2f'\n",
    "      %(HMMGP_setting['train'],HMMGP_setting['emission'],HMMGP_setting['Num_Q'],HMMGP_setting['Num_RRFFSpectralPt_total'],HMMGP_setting['Rate_RRFFSpectralPt']))\n"
   ]
  },
  {
   "cell_type": "markdown",
   "metadata": {},
   "source": [
    "## training"
   ]
  },
  {
   "cell_type": "code",
   "execution_count": 27,
   "metadata": {
    "scrolled": false
   },
   "outputs": [
    {
     "name": "stdout",
     "output_type": "stream",
     "text": [
      "21\n",
      "0 emission, 0 iter, loss 46.6700 \n",
      "0 emission, 50 iter, loss -7.2867 \n",
      "0 emission, 100 iter, loss -32.5111 \n",
      "0 emission, 150 iter, loss -51.0185 \n",
      "0 emission, 200 iter, loss -64.4454 \n",
      "\n",
      "1\n",
      "1 emission, 0 iter, loss 45.0232 \n",
      "1 emission, 50 iter, loss 10.2466 \n",
      "1 emission, 100 iter, loss -26.7258 \n",
      "1 emission, 150 iter, loss -43.1880 \n",
      "1 emission, 200 iter, loss -52.8788 \n",
      "\n",
      "8\n",
      "2 emission, 0 iter, loss 81.6104 \n",
      "2 emission, 50 iter, loss 22.1733 \n",
      "2 emission, 100 iter, loss -11.6141 \n",
      "2 emission, 150 iter, loss -29.2004 \n",
      "2 emission, 200 iter, loss -43.2718 \n",
      "\n",
      "0\n",
      "3 emission, 0 iter, loss 119.7522 \n",
      "3 emission, 50 iter, loss 43.3205 \n",
      "3 emission, 100 iter, loss 12.9864 \n",
      "3 emission, 150 iter, loss -9.5021 \n",
      "3 emission, 200 iter, loss -26.0514 \n",
      "\n",
      "2\n",
      "4 emission, 0 iter, loss 118.0578 \n",
      "4 emission, 50 iter, loss 16.5971 \n",
      "4 emission, 100 iter, loss -0.8239 \n",
      "4 emission, 150 iter, loss -14.9053 \n",
      "4 emission, 200 iter, loss -25.3338 \n",
      "\n",
      "3\n",
      "5 emission, 0 iter, loss 73.6634 \n",
      "5 emission, 50 iter, loss 40.3413 \n",
      "5 emission, 100 iter, loss 17.9551 \n",
      "5 emission, 150 iter, loss -0.2032 \n",
      "5 emission, 200 iter, loss -14.6788 \n",
      "\n",
      "7\n",
      "6 emission, 0 iter, loss 155.9515 \n",
      "6 emission, 50 iter, loss 87.1147 \n",
      "6 emission, 100 iter, loss 69.0890 \n",
      "6 emission, 150 iter, loss 57.2094 \n",
      "6 emission, 200 iter, loss 49.6576 \n",
      "\n",
      "4\n",
      "7 emission, 0 iter, loss 116.1013 \n",
      "7 emission, 50 iter, loss 3.5997 \n",
      "7 emission, 100 iter, loss -22.6043 \n",
      "7 emission, 150 iter, loss -44.9135 \n",
      "7 emission, 200 iter, loss -64.3494 \n",
      "\n",
      "----------------------------------------------------------------------------------------------------\n",
      "iter 1, iteration time : 56.057| train acc : 0.560, train lik : -109181.775, \t test acc : 0.540, test lik : -23202.250 \n",
      "----------------------------------------------------------------------------------------------------\n",
      "----------------------------------------------------------------------------------------------------\n",
      "iter 2, iteration time : 50.356| train acc : 0.610, train lik : -78951.265, \t test acc : 0.520, test lik : -15539.001 \n",
      "----------------------------------------------------------------------------------------------------\n",
      "----------------------------------------------------------------------------------------------------\n",
      "iter 3, iteration time : 35.642| train acc : 0.650, train lik : -22644.254, \t test acc : 0.580, test lik : -5325.421 \n",
      "----------------------------------------------------------------------------------------------------\n",
      "----------------------------------------------------------------------------------------------------\n",
      "iter 4, iteration time : 60.096| train acc : 0.590, train lik : -73227.421, \t test acc : 0.520, test lik : -33820.493 \n",
      "----------------------------------------------------------------------------------------------------\n",
      "----------------------------------------------------------------------------------------------------\n",
      "iter 5, iteration time : 58.410| train acc : 0.650, train lik : -62248.024, \t test acc : 0.600, test lik : -24952.383 \n",
      "----------------------------------------------------------------------------------------------------\n",
      "----------------------------------------------------------------------------------------------------\n",
      "iter 6, iteration time : 60.567| train acc : 0.660, train lik : -32967.404, \t test acc : 0.580, test lik : -10583.557 \n",
      "----------------------------------------------------------------------------------------------------\n",
      "----------------------------------------------------------------------------------------------------\n",
      "iter 7, iteration time : 58.980| train acc : 0.600, train lik : -81470.253, \t test acc : 0.560, test lik : -20238.944 \n",
      "----------------------------------------------------------------------------------------------------\n",
      "----------------------------------------------------------------------------------------------------\n",
      "iter 8, iteration time : 59.293| train acc : 0.680, train lik : -32375.401, \t test acc : 0.640, test lik : -17541.545 \n",
      "----------------------------------------------------------------------------------------------------\n",
      "----------------------------------------------------------------------------------------------------\n",
      "iter 9, iteration time : 58.041| train acc : 0.710, train lik : -2756.471, \t test acc : 0.600, test lik : -4944.781 \n",
      "----------------------------------------------------------------------------------------------------\n",
      "----------------------------------------------------------------------------------------------------\n",
      "iter 10, iteration time : 58.842| train acc : 0.680, train lik : -33.280, \t test acc : 0.600, test lik : -8329.290 \n",
      "----------------------------------------------------------------------------------------------------\n"
     ]
    }
   ],
   "source": [
    "for i_th in range(exp_setting['num_rep_exp']):    \n",
    "    model = _combine_models(x_train, y_train, exp_setting, HMMGP_setting,random_seed=random_seed,num_init_iter = 201)\n",
    "\n",
    "    train_loglik_list, train_accuracy_list, test_accuracy_list, test_exact_accuracy_list, \\\n",
    "    time_list, num_cluster_list, num_test_cluster_list, num_test_exact_cluster_list, param_history_dict = model.train(x_train, y_train, z_train, x_test, y_test, z_test)\n",
    "\n",
    "#z_test_pred, test_elbo = model._run_smoothing(x_test, y_test, num_test_batch=HMMGP_setting['Num_K_Emission'], test_option=True)\n",
    "z_test_pred, test_elbo ,test_lik = model._run_smoothing(x_test, y_test, num_test_batch=HMMGP_setting['Num_K_Emission'], test_option=True)\n",
    "    \n"
   ]
  },
  {
   "cell_type": "code",
   "execution_count": null,
   "metadata": {},
   "outputs": [],
   "source": [
    "print(*model.emission_model_list[0].kernel.parameters())\n",
    "print(*model.emission_model_list[0].likelihood.parameters())"
   ]
  },
  {
   "cell_type": "code",
   "execution_count": null,
   "metadata": {},
   "outputs": [],
   "source": [
    "train_elbo,train_lik,test_elbo,test_lik = train_loglik_list[:,0],train_loglik_list[:,1],train_loglik_list[:,2],train_loglik_list[:,3]"
   ]
  },
  {
   "cell_type": "code",
   "execution_count": 30,
   "metadata": {},
   "outputs": [
    {
     "data": {
      "text/plain": [
       "(-246822.19407356772,\n",
       " -33.28039700732634,\n",
       " -131329.84391889742,\n",
       " -8329.290472045801)"
      ]
     },
     "execution_count": 30,
     "metadata": {},
     "output_type": "execute_result"
    }
   ],
   "source": [
    "train_elbo[-1],train_lik[-1],test_elbo[-1],test_lik[-1]"
   ]
  },
  {
   "cell_type": "code",
   "execution_count": 36,
   "metadata": {},
   "outputs": [],
   "source": [
    "num_emission_param = exp_setting['Num_HiddenState']*(exp_setting['Num_Q']*(3*exp_setting['input_dim']) + 1 )\n",
    "num_trasition_param = exp_setting['Num_HiddenState']**2 + exp_setting['Num_HiddenState']\n",
    "num_modelparam = num_emission_param + num_trasition_param \n",
    "\n",
    "\n",
    "def compute_bic(x,y,loglik,nummodelparam):\n",
    "    \"\"\"\n",
    "    # https://en.wikipedia.org/wiki/Bayesian_information_criterion\n",
    "    # bic = num_modelparam*ln(numdata) - 2*loglik_hat\n",
    "    \"\"\"\n",
    "    x_shape = x.shape\n",
    "    numdata = x_shape[0]*x_shape[1]\n",
    "    #print('numdata: {}, loglik: {}, nummodelparam: {}'.format(numdata,loglik,nummodelparam))\n",
    "    return nummodelparam*np.log(numdata) - 2*loglik\n",
    "\n",
    "\n",
    "\n"
   ]
  },
  {
   "cell_type": "code",
   "execution_count": 39,
   "metadata": {},
   "outputs": [
    {
     "data": {
      "text/plain": [
       "(100, 200)"
      ]
     },
     "execution_count": 39,
     "metadata": {},
     "output_type": "execute_result"
    }
   ],
   "source": [
    "x_train.shape"
   ]
  },
  {
   "cell_type": "code",
   "execution_count": 40,
   "metadata": {},
   "outputs": [
    {
     "name": "stdout",
     "output_type": "stream",
     "text": [
      "numdata: 20000, loglik: -33.28039700732634, nummodelparam: 176\n"
     ]
    },
    {
     "data": {
      "text/plain": [
       "1809.5746032610111"
      ]
     },
     "execution_count": 40,
     "metadata": {},
     "output_type": "execute_result"
    }
   ],
   "source": [
    "compute_bic(x_train,y_train,train_lik[-1],num_modelparam)"
   ]
  },
  {
   "cell_type": "code",
   "execution_count": 41,
   "metadata": {},
   "outputs": [
    {
     "name": "stdout",
     "output_type": "stream",
     "text": [
      "numdata: 10000, loglik: -8329.290472045801, nummodelparam: 176\n"
     ]
    },
    {
     "data": {
      "text/plain": [
       "18279.60084955941"
      ]
     },
     "execution_count": 41,
     "metadata": {},
     "output_type": "execute_result"
    }
   ],
   "source": [
    "compute_bic(x_test,y_test,test_lik[-1],num_modelparam)"
   ]
  },
  {
   "cell_type": "code",
   "execution_count": null,
   "metadata": {},
   "outputs": [],
   "source": [
    "figsiz2 = (20,2) \n",
    "labelsiz = 15\n",
    "fontsiz = 20\n",
    "interval = 0.2\n",
    "xlimit_range = [110,140]"
   ]
  },
  {
   "cell_type": "code",
   "execution_count": null,
   "metadata": {},
   "outputs": [],
   "source": [
    "#z_test_pred = result_pickle['test_pred'][chosen_idx]\n",
    "revised_order_dict, revised_z_test_pred, _ = _measure_metric(z_test, z_test_pred)\n",
    "revised_z_test_pred = revised_z_test_pred"
   ]
  },
  {
   "cell_type": "markdown",
   "metadata": {},
   "source": [
    "## test set"
   ]
  },
  {
   "cell_type": "code",
   "execution_count": null,
   "metadata": {},
   "outputs": [],
   "source": [
    "\n",
    "fig = plt.figure(figsize = figsiz2 )\n",
    "for ith,(ith_x,ith_y,ith_z) in enumerate(zip(x_test,y_test,z_test)):\n",
    "    plt.plot(ith_x , ith_y , color = current_palette[ith_z])\n",
    "\n",
    "plt.tick_params(labelsize=labelsiz) \n",
    "plt.xlim(xlimit_range)\n",
    "\n",
    "plt.ylabel('obs',fontsize = fontsiz)\n",
    "#plt.xlabel('time',fontsize = fontsiz)\n",
    "\n",
    "plt.yticks(fontsize = 15)\n",
    "plt.xticks(np.arange(xlimit_range[0],xlimit_range[1]+1),fontsize = 15 )\n",
    "\n",
    "#plt.xlabel('log10 training time (sec)',fontsize = fontsiz)\n",
    "plt.legend(loc='lower right',fontsize = 15)\n",
    "fig.tight_layout()    \n",
    "\n",
    "plt.show()\n",
    "\n"
   ]
  },
  {
   "cell_type": "markdown",
   "metadata": {},
   "source": [
    "## estimation for test set"
   ]
  },
  {
   "cell_type": "code",
   "execution_count": null,
   "metadata": {},
   "outputs": [],
   "source": [
    "fig = plt.figure(figsize = figsiz2 )\n",
    "for ith,(ith_x,ith_y,ith_z) in enumerate( zip(x_test,y_test,revised_z_test_pred)):\n",
    "    plt.plot(ith_x , ith_y , color = current_palette[ith_z])\n",
    "\n",
    "#    plt.plot( ith_x, ith_y , color = current_palette[ith_z])\n",
    "\n",
    "plt.tick_params(labelsize=labelsiz) \n",
    "plt.xlim(xlimit_range)\n",
    "\n",
    "plt.ylabel('obs',fontsize = fontsiz)\n",
    "# plt.xlabel('time',fontsize = fontsiz)\n",
    "plt.xticks(np.arange(xlimit_range[0],xlimit_range[1]+1),fontsize = 15 )\n",
    "plt.yticks(fontsize = 15)\n",
    "\n",
    "#plt.xlabel('log10 training time (sec)',fontsize = fontsiz)\n",
    "plt.legend(loc='lower right',fontsize = 15)\n",
    "fig.tight_layout()    \n",
    "\n",
    "#plt.savefig(save_figure_path + model_name + '_pred'  + '.pdf' , format='pdf', dpi=1000, bbox_inches='tight')\n",
    "plt.show()\n"
   ]
  },
  {
   "cell_type": "code",
   "execution_count": null,
   "metadata": {
    "scrolled": false
   },
   "outputs": [],
   "source": [
    "#train_loglik_list,train_accuracy_list, \n",
    "figsiz = (8,5) \n",
    "#figsiz = (6,4) \n",
    "labelsiz = 15\n",
    "fontsiz = 15\n",
    "interval = 0.2\n",
    "\n",
    "fig = plt.figure(figsize = figsiz)\n",
    "#plt.plot(time_list.cumsum(),train_loglik_list)\n",
    "plt.plot(time_list.cumsum(),train_elbo)\n",
    "plt.ticklabel_format(axis='y',style='sci',scilimits=(0,0))\n",
    "#plt.xscale('log',basex=10) \n",
    "plt.ylabel('trai elbo',fontsize = 20)\n",
    "plt.xlabel('time (sec)',fontsize = 20)\n",
    "plt.legend(loc='lower right',fontsize = 15)\n",
    "plt.xticks(fontsize = 18)\n",
    "plt.yticks(fontsize = 18)\n",
    "fig.tight_layout()    \n",
    "plt.show()\n",
    "\n",
    "fig = plt.figure(figsize = figsiz)\n",
    "#plt.plot(time_list.cumsum(),train_loglik_list)\n",
    "plt.plot(time_list.cumsum(),train_lik)\n",
    "plt.ticklabel_format(axis='y',style='sci',scilimits=(0,0))\n",
    "#plt.xscale('log',basex=10) \n",
    "plt.ylabel('train lik',fontsize = 20)\n",
    "plt.xlabel('time (sec)',fontsize = 20)\n",
    "plt.legend(loc='lower right',fontsize = 15)\n",
    "plt.xticks(fontsize = 18)\n",
    "plt.yticks(fontsize = 18)\n",
    "fig.tight_layout()    \n",
    "plt.show()\n",
    "\n",
    "\n",
    "fig = plt.figure(figsize = figsiz)\n",
    "#plt.plot(time_list.cumsum(),train_loglik_list)\n",
    "plt.plot(time_list.cumsum(),test_elbo)\n",
    "plt.ticklabel_format(axis='y',style='sci',scilimits=(0,0))\n",
    "#plt.xscale('log',basex=10) \n",
    "plt.ylabel('test elbo',fontsize = 20)\n",
    "plt.xlabel('time (sec)',fontsize = 20)\n",
    "plt.legend(loc='lower right',fontsize = 15)\n",
    "plt.xticks(fontsize = 18)\n",
    "plt.yticks(fontsize = 18)\n",
    "fig.tight_layout()    \n",
    "plt.show()\n",
    "\n",
    "\n",
    "fig = plt.figure(figsize = figsiz)\n",
    "#plt.plot(time_list.cumsum(),train_loglik_list)\n",
    "plt.plot(time_list.cumsum(),test_lik)\n",
    "plt.ticklabel_format(axis='y',style='sci',scilimits=(0,0))\n",
    "#plt.xscale('log',basex=10) \n",
    "plt.ylabel('test lik',fontsize = 20)\n",
    "plt.xlabel('time (sec)',fontsize = 20)\n",
    "plt.legend(loc='lower right',fontsize = 15)\n",
    "plt.xticks(fontsize = 18)\n",
    "plt.yticks(fontsize = 18)\n",
    "fig.tight_layout()    \n",
    "plt.show()\n",
    "\n",
    "\n",
    "\n"
   ]
  },
  {
   "cell_type": "code",
   "execution_count": null,
   "metadata": {},
   "outputs": [],
   "source": [
    "figsiz = (8,5) \n",
    "#figsiz = (6,4) \n",
    "labelsiz = 15\n",
    "fontsiz = 15\n",
    "interval = 0.2\n",
    "\n",
    "fig = plt.figure(figsize = figsiz)\n",
    "plt.plot(time_list.cumsum(),train_accuracy_list)\n",
    "#plt.xscale('log',basex=10) \n",
    "plt.ylabel('train accuracy',fontsize = 20)\n",
    "plt.xlabel('time (sec)',fontsize = 20)\n",
    "plt.legend(loc='lower right',fontsize = 15)\n",
    "plt.xticks(fontsize = 18)\n",
    "plt.yticks(fontsize = 18)\n",
    "fig.tight_layout()    \n",
    "plt.show()\n",
    "\n",
    "\n",
    "figsiz = (8,5) \n",
    "#figsiz = (6,4) \n",
    "labelsiz = 15\n",
    "fontsiz = 15\n",
    "interval = 0.2\n",
    "\n",
    "fig = plt.figure(figsize = figsiz)\n",
    "plt.plot(time_list.cumsum(),test_accuracy_list)\n",
    "#plt.xscale('log',basex=10) \n",
    "plt.ylabel('test accuracy',fontsize = 20)\n",
    "plt.xlabel('time (sec)',fontsize = 20)\n",
    "plt.legend(loc='lower right',fontsize = 15)\n",
    "plt.xticks(fontsize = 18)\n",
    "plt.yticks(fontsize = 18)\n",
    "fig.tight_layout()    \n",
    "plt.show()\n"
   ]
  },
  {
   "cell_type": "markdown",
   "metadata": {},
   "source": [
    "## spectral density estimation "
   ]
  },
  {
   "cell_type": "code",
   "execution_count": null,
   "metadata": {},
   "outputs": [],
   "source": [
    "xlim_range = [0-1,80]\n",
    "\n",
    "from scipy import signal\n",
    "from scipy import  stats\n",
    "from matplotlib.ticker import FormatStrFormatter\n",
    "\n",
    "figsiz = (15,8) \n",
    "#figsiz = (6,3)\n",
    "labelsiz = 15\n",
    "fontsiz = 15\n",
    "interval = 0.2\n",
    "\n",
    "Fs = len(x_train[0])\n",
    "#plt.figure(figsize = figsiz)\n",
    "\n",
    "fig,axs =  plt.subplots( 2, sharex=True , gridspec_kw={'hspace': 0.1})\n",
    "ax1,ax2 = axs[0],axs[1]\n",
    "\n",
    "for ith_z in range(10):\n",
    "    #print(np.where(z_train==ith_z)[0][:3])\n",
    "    for j,jth in enumerate(np.where(z_train==ith_z)[0][:5]):\n",
    "        freqs, psd = signal.welch(y_train[jth], fs= Fs ,nperseg= len(y_train[jth]) )        \n",
    "        if j == 0:\n",
    "            ax1.plot(freqs, psd , color = current_palette[ith_z] , linewidth = 1 ,alpha = 1.0 ,label = 'class ' + str(ith_z + 1) )\n",
    "        else:\n",
    "            ax1.plot(freqs, psd , color = current_palette[ith_z] , linewidth = 1 , alpha = 1.0  )\n",
    " \n",
    "ax1.yaxis.set_major_formatter(FormatStrFormatter('%.2f'))\n",
    "ax1.legend(bbox_to_anchor=(-0.2,1.02,1,0.1), loc=\"lower left\", borderaxespad = 0.2 ,ncol = 4 ,fontsize = 13)\n",
    "#ax1.legend(bbox_to_anchor=(1.04,0.5), loc=\"lower left\", borderaxespad=0 ,ncol = 1 ,fontsize = 10)\n",
    "fig.tight_layout()    \n",
    "ax1.set_ylabel('psd',fontsize = 18)\n",
    "\n",
    "\n",
    "#chosen_idx = 0\n",
    "current_iter = HMMGP_setting['Iter_train']-1 \n",
    "x = np.arange(512)\n",
    "for ith_emission in range(exp_setting['Num_HiddenState']):\n",
    "    a = 0\n",
    "    for ith_weight,ith_mu,ith_std in zip(param_history_dict['weight'][current_iter][ith_emission],\n",
    "                                         param_history_dict['mu'][current_iter][ith_emission],\n",
    "                                         param_history_dict['std'][current_iter][ith_emission]) :\n",
    "        a += .5*ith_weight* (stats.norm.pdf(x, ith_mu,ith_std**2) + stats.norm.pdf(x, -ith_mu ,ith_std**2))\n",
    "    try : \n",
    "        #ax2.plot(x, a , color = current_palette[revised_order_dict[ith_emission]] , linewidth = 3.0 ,alpha = .9  ,label = 'state ' + str(ith_emission+1))\n",
    "        ax2.plot(x, a , color = current_palette[revised_order_dict[ith_emission]] , linewidth = 1.5 ,alpha = .9  ,label = 'state ' + str(2*revised_order_dict[ith_emission]+1))        \n",
    "    except:\n",
    "        #ax2.plot(x, a , color = current_palette[ith_emission] , linewidth = 3.0 ,alpha = .9  ,label = 'state ' + str(ith_emission+1))\n",
    "        ax2.plot(x, a , color = current_palette[ith_emission] , linewidth = 1.5 ,alpha = .9  ,label = 'state ' + str(2*ith_emission+1))  \n",
    "#        ax2.plot(x, a , color = current_palette[2*revised_order_dict[ith_emission]] , linewidth = 3.0 ,alpha = .9  ,label = 'state ' + str(ith_emission+1))        \n",
    "        \n",
    "#ax2.set_ylim([0,0.6])\n",
    "ax2.yaxis.set_major_formatter(FormatStrFormatter('%.2f'))\n",
    "ax2.set_xlabel('Hz ',fontsize = 18)\n",
    "ax2.set_ylabel(r'p(s)',fontsize = 18)\n",
    "plt.xticks(fontsize = 15)\n",
    "plt.xlim(xlim_range)\n",
    "\n",
    "\n",
    "fig.tight_layout()    \n",
    "#plt.savefig(save_figure_path + model_name + '_psd_toegether'   + '.pdf' , format='pdf', dpi=1000, bbox_inches='tight')\n",
    "plt.show()\n"
   ]
  },
  {
   "cell_type": "code",
   "execution_count": null,
   "metadata": {},
   "outputs": [],
   "source": [
    "# from matplotlib.ticker import FormatStrFormatter\n",
    "# ax1.yaxis.set_major_formatter(FormatStrFormatter('%.2f'))\n",
    "\n"
   ]
  },
  {
   "cell_type": "code",
   "execution_count": null,
   "metadata": {},
   "outputs": [],
   "source": []
  }
 ],
 "metadata": {
  "kernelspec": {
   "display_name": "Python 3",
   "language": "python",
   "name": "python3"
  },
  "language_info": {
   "codemirror_mode": {
    "name": "ipython",
    "version": 3
   },
   "file_extension": ".py",
   "mimetype": "text/x-python",
   "name": "python",
   "nbconvert_exporter": "python",
   "pygments_lexer": "ipython3",
   "version": "3.6.8"
  }
 },
 "nbformat": 4,
 "nbformat_minor": 2
}
